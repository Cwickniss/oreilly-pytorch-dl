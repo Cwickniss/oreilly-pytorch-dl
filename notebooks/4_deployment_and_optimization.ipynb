{
 "cells": [
  {
   "cell_type": "code",
   "execution_count": 1,
   "id": "fbffb0b9",
   "metadata": {},
   "outputs": [],
   "source": [
    "# Standard library imports\n",
    "import sys  # For system-specific parameters and functions\n",
    "import os   # For interacting with the operating system\n",
    "import time # For time-related functions\n",
    "import copy # For deep copy operations\n",
    "\n",
    "# Third-party library imports\n",
    "import numpy as np  # For numerical operations\n",
    "import psutil       # For retrieving information on system utilization\n",
    "import onnx         # For Open Neural Network Exchange format support\n",
    "from sklearn.metrics import accuracy_score, f1_score, precision_score, recall_score # For model evaluation metrics\n",
    "from tqdm import tqdm  # For progress bars\n",
    "\n",
    "# PyTorch library imports\n",
    "import torch               # Main library for tensors and deep learning in PyTorch\n",
    "from torch import nn       # Neural network module in PyTorch\n",
    "import torch.nn.utils.prune as prune # For network pruning utilities in PyTorch\n",
    "import torchvision         # Computer vision extension for PyTorch\n",
    "import torchvision.models as models # Pre-trained models in PyTorch\n",
    "from torchvision.datasets import ImageFolder  # For loading image data from a directory\n",
    "import torchvision.transforms as transforms  # For image transformations in PyTorch\n",
    "from torch.utils.data import DataLoader, random_split, Dataset # For handling datasets in PyTorch\n"
   ]
  },
  {
   "cell_type": "code",
   "execution_count": 2,
   "id": "5a0acf53",
   "metadata": {
    "scrolled": true
   },
   "outputs": [
    {
     "data": {
      "text/plain": [
       "VGG(\n",
       "  (features): Sequential(\n",
       "    (0): Conv2d(3, 64, kernel_size=(3, 3), stride=(1, 1), padding=(1, 1))\n",
       "    (1): ReLU(inplace=True)\n",
       "    (2): MaxPool2d(kernel_size=2, stride=2, padding=0, dilation=1, ceil_mode=False)\n",
       "    (3): Conv2d(64, 128, kernel_size=(3, 3), stride=(1, 1), padding=(1, 1))\n",
       "    (4): ReLU(inplace=True)\n",
       "    (5): MaxPool2d(kernel_size=2, stride=2, padding=0, dilation=1, ceil_mode=False)\n",
       "    (6): Conv2d(128, 256, kernel_size=(3, 3), stride=(1, 1), padding=(1, 1))\n",
       "    (7): ReLU(inplace=True)\n",
       "    (8): Conv2d(256, 256, kernel_size=(3, 3), stride=(1, 1), padding=(1, 1))\n",
       "    (9): ReLU(inplace=True)\n",
       "    (10): MaxPool2d(kernel_size=2, stride=2, padding=0, dilation=1, ceil_mode=False)\n",
       "    (11): Conv2d(256, 512, kernel_size=(3, 3), stride=(1, 1), padding=(1, 1))\n",
       "    (12): ReLU(inplace=True)\n",
       "    (13): Conv2d(512, 512, kernel_size=(3, 3), stride=(1, 1), padding=(1, 1))\n",
       "    (14): ReLU(inplace=True)\n",
       "    (15): MaxPool2d(kernel_size=2, stride=2, padding=0, dilation=1, ceil_mode=False)\n",
       "    (16): Conv2d(512, 512, kernel_size=(3, 3), stride=(1, 1), padding=(1, 1))\n",
       "    (17): ReLU(inplace=True)\n",
       "    (18): Conv2d(512, 512, kernel_size=(3, 3), stride=(1, 1), padding=(1, 1))\n",
       "    (19): ReLU(inplace=True)\n",
       "    (20): MaxPool2d(kernel_size=2, stride=2, padding=0, dilation=1, ceil_mode=False)\n",
       "  )\n",
       "  (avgpool): AdaptiveAvgPool2d(output_size=(7, 7))\n",
       "  (classifier): Sequential(\n",
       "    (0): Linear(in_features=25088, out_features=4096, bias=True)\n",
       "    (1): ReLU(inplace=True)\n",
       "    (2): Dropout(p=0.5, inplace=False)\n",
       "    (3): Linear(in_features=4096, out_features=4096, bias=True)\n",
       "    (4): ReLU(inplace=True)\n",
       "    (5): Dropout(p=0.5, inplace=False)\n",
       "    (6): Linear(in_features=4096, out_features=10, bias=True)\n",
       "  )\n",
       ")"
      ]
     },
     "execution_count": 2,
     "metadata": {},
     "output_type": "execute_result"
    }
   ],
   "source": [
    "# Load the model architecture\n",
    "trained_vgg_model = models.vgg11()\n",
    "\n",
    "num_classes = 10\n",
    "\n",
    "trained_vgg_model.classifier[-1] = nn.Linear(trained_vgg_model.classifier[-1].in_features, num_classes)\n",
    "\n",
    "\n",
    "# Load the saved weights into the model. This was our better VGG 11 model\n",
    "trained_vgg_model.load_state_dict(torch.load(\"../data/trained_vgg_model.pt\"))\n",
    "\n",
    "trained_vgg_model.eval()"
   ]
  },
  {
   "cell_type": "code",
   "execution_count": 4,
   "id": "36bf9355",
   "metadata": {},
   "outputs": [],
   "source": [
    "def prune_model(model, pruning_rate):\n",
    "    for module in model.modules():\n",
    "        if isinstance(module, nn.Conv2d):\n",
    "            prune.l1_unstructured(module, name='weight', amount=pruning_rate)\n",
    "            prune.remove(module, 'weight')  # Make the pruning permanent\n",
    "    return model\n"
   ]
  },
  {
   "cell_type": "code",
   "execution_count": 5,
   "id": "f846bd5d",
   "metadata": {},
   "outputs": [
    {
     "data": {
      "text/plain": [
       "VGG(\n",
       "  (features): Sequential(\n",
       "    (0): Conv2d(3, 64, kernel_size=(3, 3), stride=(1, 1), padding=(1, 1))\n",
       "    (1): ReLU(inplace=True)\n",
       "    (2): MaxPool2d(kernel_size=2, stride=2, padding=0, dilation=1, ceil_mode=False)\n",
       "    (3): Conv2d(64, 128, kernel_size=(3, 3), stride=(1, 1), padding=(1, 1))\n",
       "    (4): ReLU(inplace=True)\n",
       "    (5): MaxPool2d(kernel_size=2, stride=2, padding=0, dilation=1, ceil_mode=False)\n",
       "    (6): Conv2d(128, 256, kernel_size=(3, 3), stride=(1, 1), padding=(1, 1))\n",
       "    (7): ReLU(inplace=True)\n",
       "    (8): Conv2d(256, 256, kernel_size=(3, 3), stride=(1, 1), padding=(1, 1))\n",
       "    (9): ReLU(inplace=True)\n",
       "    (10): MaxPool2d(kernel_size=2, stride=2, padding=0, dilation=1, ceil_mode=False)\n",
       "    (11): Conv2d(256, 512, kernel_size=(3, 3), stride=(1, 1), padding=(1, 1))\n",
       "    (12): ReLU(inplace=True)\n",
       "    (13): Conv2d(512, 512, kernel_size=(3, 3), stride=(1, 1), padding=(1, 1))\n",
       "    (14): ReLU(inplace=True)\n",
       "    (15): MaxPool2d(kernel_size=2, stride=2, padding=0, dilation=1, ceil_mode=False)\n",
       "    (16): Conv2d(512, 512, kernel_size=(3, 3), stride=(1, 1), padding=(1, 1))\n",
       "    (17): ReLU(inplace=True)\n",
       "    (18): Conv2d(512, 512, kernel_size=(3, 3), stride=(1, 1), padding=(1, 1))\n",
       "    (19): ReLU(inplace=True)\n",
       "    (20): MaxPool2d(kernel_size=2, stride=2, padding=0, dilation=1, ceil_mode=False)\n",
       "  )\n",
       "  (avgpool): AdaptiveAvgPool2d(output_size=(7, 7))\n",
       "  (classifier): Sequential(\n",
       "    (0): Linear(in_features=25088, out_features=4096, bias=True)\n",
       "    (1): ReLU(inplace=True)\n",
       "    (2): Dropout(p=0.5, inplace=False)\n",
       "    (3): Linear(in_features=4096, out_features=4096, bias=True)\n",
       "    (4): ReLU(inplace=True)\n",
       "    (5): Dropout(p=0.5, inplace=False)\n",
       "    (6): Linear(in_features=4096, out_features=10, bias=True)\n",
       "  )\n",
       ")"
      ]
     },
     "execution_count": 5,
     "metadata": {},
     "output_type": "execute_result"
    }
   ],
   "source": [
    "pruning_rate = 1.  # Define the pruning rate (e.g., 0.3 means pruning 30% of the weights)\n",
    "pruned_vgg_model = prune_model(trained_vgg_model, pruning_rate)\n",
    "pruned_vgg_model.eval()"
   ]
  },
  {
   "cell_type": "code",
   "execution_count": 6,
   "id": "ef9610b0",
   "metadata": {},
   "outputs": [],
   "source": [
    "torch.save(pruned_vgg_model.state_dict(), \"../data/trained_vgg_model_pruned.pt\")\n"
   ]
  },
  {
   "cell_type": "code",
   "execution_count": null,
   "id": "558fe8c3",
   "metadata": {},
   "outputs": [],
   "source": []
  },
  {
   "cell_type": "code",
   "execution_count": null,
   "id": "f4ac6112",
   "metadata": {},
   "outputs": [],
   "source": [
    "# Define the input data shape (batch size, channels, height, width)\n",
    "input_shape = (1, 3, 224, 224)\n",
    "\n",
    "# Generate some random input data\n",
    "input_data = torch.randn(input_shape)\n"
   ]
  },
  {
   "cell_type": "code",
   "execution_count": null,
   "id": "48de07d4",
   "metadata": {},
   "outputs": [],
   "source": []
  },
  {
   "cell_type": "markdown",
   "id": "72156b34",
   "metadata": {},
   "source": [
    "# Compare results from pruned and original model"
   ]
  },
  {
   "cell_type": "code",
   "execution_count": 27,
   "id": "ab1c0d0e",
   "metadata": {},
   "outputs": [
    {
     "name": "stdout",
     "output_type": "stream",
     "text": [
      "Original output shape: torch.Size([1, 10])\n",
      "Pruned output shape: torch.Size([1, 10])\n",
      "Max absolute error: tensor(17.7294)\n"
     ]
    }
   ],
   "source": [
    "# Run inference on the original model\n",
    "with torch.no_grad():\n",
    "    output = trained_vgg_model(input_data)\n",
    "\n",
    "# Run inference on the pruned model\n",
    "with torch.no_grad():\n",
    "    pruned_output = pruned_vgg_model(input_data)\n",
    "\n",
    "# Compare the results. The quantized model has the exact same output\n",
    "print(\"Original output shape:\", output.shape)\n",
    "print(\"Pruned output shape:\", quantized_output.shape)\n",
    "print(\"Max absolute error:\", torch.max(torch.abs(output - pruned_output)))\n"
   ]
  },
  {
   "cell_type": "code",
   "execution_count": null,
   "id": "6bac1885",
   "metadata": {},
   "outputs": [],
   "source": []
  },
  {
   "cell_type": "markdown",
   "id": "5215000a",
   "metadata": {},
   "source": [
    "# Quantize the model"
   ]
  },
  {
   "cell_type": "code",
   "execution_count": null,
   "id": "42a277a5",
   "metadata": {},
   "outputs": [],
   "source": [
    "quantized_vgg_model = torch.quantization.quantize_dynamic(\n",
    "    trained_vgg_model, {torch.nn.Conv2d}, dtype=torch.qint8\n",
    ")\n",
    "quantized_vgg_model.eval()"
   ]
  },
  {
   "cell_type": "markdown",
   "id": "0df0dbcd",
   "metadata": {},
   "source": [
    "# Compare results from quantized and original model"
   ]
  },
  {
   "cell_type": "code",
   "execution_count": 28,
   "id": "da5ffda4",
   "metadata": {
    "scrolled": true
   },
   "outputs": [
    {
     "name": "stdout",
     "output_type": "stream",
     "text": [
      "Original output shape: torch.Size([1, 10])\n",
      "Quantized output shape: torch.Size([1, 10])\n",
      "Max absolute error: tensor(0.)\n"
     ]
    }
   ],
   "source": [
    "# Define the input data shape (batch size, channels, height, width)\n",
    "input_shape = (1, 3, 224, 224)\n",
    "\n",
    "# Generate some random input data\n",
    "input_data = torch.randn(input_shape)\n",
    "\n",
    "\n",
    "# Run inference on the original model\n",
    "with torch.no_grad():\n",
    "    output = trained_vgg_model(input_data)\n",
    "\n",
    "# Run inference on the quantized model\n",
    "with torch.no_grad():\n",
    "    quantized_output = quantized_vgg_model(input_data)\n",
    "\n",
    "# Compare the results. The quantized model has the exact same output\n",
    "print(\"Original output shape:\", output.shape)\n",
    "print(\"Quantized output shape:\", quantized_output.shape)\n",
    "print(\"Max absolute error:\", torch.max(torch.abs(output - quantized_output)))\n"
   ]
  },
  {
   "cell_type": "code",
   "execution_count": 10,
   "id": "a6a96b0a",
   "metadata": {},
   "outputs": [],
   "source": [
    "torch.save(quantized_vgg_model.state_dict(), \"../data/trained_vgg_model_quantized.pt\")\n"
   ]
  },
  {
   "cell_type": "code",
   "execution_count": 11,
   "id": "4778bbeb",
   "metadata": {},
   "outputs": [
    {
     "name": "stdout",
     "output_type": "stream",
     "text": [
      "The file size of the quantize VGG model is 491.37 MB\n"
     ]
    }
   ],
   "source": [
    "file_path = \"../data/trained_vgg_model_quantized.pt\"\n",
    "file_size_in_bytes = os.path.getsize(file_path)\n",
    "file_size_in_megabytes = file_size_in_bytes / (1024 * 1024)  # convert from bytes to megabytes\n",
    "\n",
    "print(f\"The file size of the quantize VGG model is {file_size_in_megabytes:.2f} MB\")\n"
   ]
  },
  {
   "cell_type": "code",
   "execution_count": null,
   "id": "a84acf45",
   "metadata": {},
   "outputs": [],
   "source": []
  },
  {
   "cell_type": "code",
   "execution_count": null,
   "id": "b9ed62fc",
   "metadata": {},
   "outputs": [],
   "source": []
  },
  {
   "cell_type": "code",
   "execution_count": 12,
   "id": "a0837f0d",
   "metadata": {},
   "outputs": [],
   "source": [
    "input_data = torch.randn((100, 3, 224, 224))  # a random batch data in the shape of 100 images\n"
   ]
  },
  {
   "cell_type": "code",
   "execution_count": 13,
   "id": "2318d391",
   "metadata": {},
   "outputs": [
    {
     "name": "stdout",
     "output_type": "stream",
     "text": [
      "3.21 s ± 82.3 ms per loop (mean ± std. dev. of 7 runs, 1 loop each)\n"
     ]
    }
   ],
   "source": [
    "%timeit trained_vgg_model(input_data)"
   ]
  },
  {
   "cell_type": "code",
   "execution_count": 14,
   "id": "8a5e659f",
   "metadata": {},
   "outputs": [
    {
     "name": "stdout",
     "output_type": "stream",
     "text": [
      "3.17 s ± 58.3 ms per loop (mean ± std. dev. of 7 runs, 1 loop each)\n"
     ]
    }
   ],
   "source": [
    "%timeit pruned_vgg_model(input_data)"
   ]
  },
  {
   "cell_type": "code",
   "execution_count": 15,
   "id": "871efdb1",
   "metadata": {},
   "outputs": [
    {
     "name": "stdout",
     "output_type": "stream",
     "text": [
      "3.19 s ± 77.2 ms per loop (mean ± std. dev. of 7 runs, 1 loop each)\n"
     ]
    }
   ],
   "source": [
    "%timeit quantized_vgg_model(input_data)"
   ]
  },
  {
   "cell_type": "code",
   "execution_count": null,
   "id": "65cb921b",
   "metadata": {},
   "outputs": [],
   "source": []
  },
  {
   "cell_type": "code",
   "execution_count": 16,
   "id": "f44832a6",
   "metadata": {},
   "outputs": [
    {
     "name": "stdout",
     "output_type": "stream",
     "text": [
      "Original VGG model memory usage: 491.36 MB\n",
      "Pruned VGG model memory usage: 491.36 MB\n"
     ]
    }
   ],
   "source": [
    "\n",
    "def get_model_memory_usage(model):\n",
    "    total_memory = 0\n",
    "    for param in model.parameters():\n",
    "        param_memory = param.data.numel() * param.data.element_size()\n",
    "        total_memory += param_memory\n",
    "    return total_memory/1048576\n",
    "\n",
    "trained_vgg_memory = get_model_memory_usage(trained_vgg_model)\n",
    "pruned_vgg_memory = get_model_memory_usage(pruned_vgg_model)\n",
    "\n",
    "print(f\"Original VGG model memory usage: {trained_vgg_memory:.2f} MB\")\n",
    "print(f\"Pruned VGG model memory usage: {pruned_vgg_memory:.2f} MB\")\n"
   ]
  },
  {
   "cell_type": "code",
   "execution_count": 17,
   "id": "3ff120f1",
   "metadata": {},
   "outputs": [
    {
     "name": "stdout",
     "output_type": "stream",
     "text": [
      "Quantized VGG model memory usage: 122.87 MB\n"
     ]
    }
   ],
   "source": [
    "def get_quantized_model_memory_usage(model):\n",
    "    total_memory = 0\n",
    "    for name, param in model.named_parameters():\n",
    "        param_memory = 0\n",
    "        if \"weight\" in name and hasattr(param, \"q_per_channel_scales\"):\n",
    "            # Quantized parameter\n",
    "            quantized_bits = 8  # Assuming qint8 quantization\n",
    "            param_memory = param.data.numel() * (quantized_bits // 8)\n",
    "        else:\n",
    "            # Non-quantized parameter\n",
    "            param_memory = param.data.numel() * param.data.element_size()\n",
    "        total_memory += param_memory\n",
    "    return total_memory/1048576\n",
    "\n",
    "quantized_vgg_memory = get_quantized_model_memory_usage(quantized_vgg_model)\n",
    "\n",
    "print(f\"Quantized VGG model memory usage: {quantized_vgg_memory:.2f} MB\")\n"
   ]
  },
  {
   "cell_type": "code",
   "execution_count": null,
   "id": "c82abc83",
   "metadata": {},
   "outputs": [],
   "source": []
  },
  {
   "cell_type": "code",
   "execution_count": 18,
   "id": "6c0d9c83",
   "metadata": {},
   "outputs": [
    {
     "name": "stdout",
     "output_type": "stream",
     "text": [
      "Original VGG model sparsity: 0.00%\n",
      "Pruned VGG model sparsity: 7.16%\n"
     ]
    }
   ],
   "source": [
    "def check_sparsity(model):\n",
    "    total_elements = 0\n",
    "    zero_elements = 0\n",
    "    for param in model.parameters():\n",
    "        total_elements += param.numel()\n",
    "        zero_elements += (param == 0).sum().item()\n",
    "    sparsity = zero_elements / total_elements * 100\n",
    "    return sparsity\n",
    "\n",
    "trained_vgg_sparsity = check_sparsity(trained_vgg_model)\n",
    "pruned_vgg_sparsity = check_sparsity(pruned_vgg_model)\n",
    "\n",
    "print(f\"Original VGG model sparsity: {trained_vgg_sparsity:.2f}%\")\n",
    "print(f\"Pruned VGG model sparsity: {pruned_vgg_sparsity:.2f}%\")\n"
   ]
  },
  {
   "cell_type": "code",
   "execution_count": null,
   "id": "2cf9915f",
   "metadata": {},
   "outputs": [],
   "source": []
  },
  {
   "cell_type": "code",
   "execution_count": null,
   "id": "96d965c3",
   "metadata": {},
   "outputs": [],
   "source": []
  },
  {
   "cell_type": "code",
   "execution_count": 19,
   "id": "db56d17f",
   "metadata": {},
   "outputs": [],
   "source": [
    "# !pip install psutil\n"
   ]
  },
  {
   "cell_type": "code",
   "execution_count": 20,
   "id": "7188e439",
   "metadata": {},
   "outputs": [
    {
     "name": "stdout",
     "output_type": "stream",
     "text": [
      "Original VGG model memory usage during inference: 7.609375 MB\n",
      "Pruned VGG model memory usage during inference: 5.71875 MB\n",
      "Quantized VGG model memory usage during inference: 0.046875 MB\n"
     ]
    }
   ],
   "source": [
    "\n",
    "def memory_usage():\n",
    "    process = psutil.Process(os.getpid())\n",
    "    return process.memory_info().rss\n",
    "\n",
    "# Create input tensor\n",
    "input_data = torch.randn((100, 3, 224, 224))\n",
    "\n",
    "# Measure memory usage before inference\n",
    "before_memory_usage = memory_usage()\n",
    "\n",
    "# Run inference on the original model\n",
    "with torch.no_grad():\n",
    "    output = trained_vgg_model(input_data)\n",
    "\n",
    "# Measure memory usage after inference\n",
    "after_memory_usage = memory_usage()\n",
    "\n",
    "print(f\"Original VGG model memory usage during inference: {(after_memory_usage - before_memory_usage)/1048576} MB\")\n",
    "\n",
    "# Measure memory usage before inference\n",
    "before_memory_usage_pruned = memory_usage()\n",
    "\n",
    "# Run inference on the pruned model\n",
    "with torch.no_grad():\n",
    "    pruned_output = pruned_vgg_model(input_data)\n",
    "\n",
    "# Measure memory usage after inference\n",
    "after_memory_usage_pruned = memory_usage()\n",
    "\n",
    "print(f\"Pruned VGG model memory usage during inference: {(after_memory_usage_pruned - before_memory_usage_pruned)/1048576} MB\")\n",
    "\n",
    "\n",
    "# Measure memory usage before inference\n",
    "before_memory_usage_pruned = memory_usage()\n",
    "\n",
    "# Run inference on the pruned model\n",
    "with torch.no_grad():\n",
    "    pruned_output = quantized_vgg_model(input_data)\n",
    "\n",
    "# Measure memory usage after inference\n",
    "after_memory_usage_pruned = memory_usage()\n",
    "\n",
    "print(f\"Quantized VGG model memory usage during inference: {(after_memory_usage_pruned - before_memory_usage_pruned)/1048576} MB\")\n"
   ]
  },
  {
   "cell_type": "code",
   "execution_count": null,
   "id": "01fc8d89",
   "metadata": {},
   "outputs": [],
   "source": []
  },
  {
   "cell_type": "code",
   "execution_count": 22,
   "id": "e8cb8973",
   "metadata": {},
   "outputs": [
    {
     "name": "stdout",
     "output_type": "stream",
     "text": [
      "================ Diagnostic Run torch.onnx.export version 2.0.0 ================\n",
      "verbose: False, log level: Level.ERROR\n",
      "======================= 0 NONE 0 NOTE 0 WARNING 0 ERROR ========================\n",
      "\n"
     ]
    }
   ],
   "source": [
    "\n",
    "# Set the model to evaluation mode\n",
    "trained_vgg_model.eval()\n",
    "\n",
    "# Define an example input tensor\n",
    "dummy_input = torch.randn(1, 3, 224, 224)\n",
    "\n",
    "# Convert the model to ONNX format\n",
    "torch.onnx.export(trained_vgg_model, dummy_input, \"../data/vgg.onnx\", export_params=True)"
   ]
  },
  {
   "cell_type": "code",
   "execution_count": null,
   "id": "2536e4dc",
   "metadata": {},
   "outputs": [],
   "source": []
  },
  {
   "cell_type": "code",
   "execution_count": 23,
   "id": "3b5e72b5",
   "metadata": {},
   "outputs": [],
   "source": [
    "\n",
    "# https://pytorch.org/vision/main/models/generated/torchvision.models.vgg11.html\n",
    "transform = transforms.Compose([\n",
    "    transforms.Resize((224, 224)),\n",
    "    transforms.ToTensor(),\n",
    "])\n",
    "dataset = ImageFolder(root='../data/art-styles', transform=transform)\n",
    "\n",
    "train_size = int(0.8 * len(dataset))\n",
    "test_size = len(dataset) - train_size\n",
    "train_dataset, test_dataset = random_split(dataset, [train_size, test_size])\n",
    "\n",
    "train_loader = DataLoader(train_dataset, batch_size=64, shuffle=True, num_workers=4)\n",
    "test_loader = DataLoader(test_dataset, batch_size=64, shuffle=False, num_workers=4)\n"
   ]
  },
  {
   "cell_type": "code",
   "execution_count": 24,
   "id": "c9714649",
   "metadata": {},
   "outputs": [
    {
     "data": {
      "text/plain": [
       "device(type='cpu')"
      ]
     },
     "execution_count": 24,
     "metadata": {},
     "output_type": "execute_result"
    }
   ],
   "source": [
    "# Check if GPU is available and use it, otherwise use CPU\n",
    "device = torch.device('cuda' if torch.cuda.is_available() else 'cpu')\n",
    "\n",
    "device"
   ]
  },
  {
   "cell_type": "code",
   "execution_count": 25,
   "id": "25d9c971",
   "metadata": {},
   "outputs": [],
   "source": [
    "# Function to evaluate the model\n",
    "def evaluate_model(model, test_loader, criterion):\n",
    "    model.eval()\n",
    "    y_true, y_pred = [], []\n",
    "    total_loss = 0.0\n",
    "    with torch.no_grad():\n",
    "        for inputs, labels, *extra in tqdm(test_loader, total=len(test_loader)):\n",
    "            inputs = inputs.to(device)\n",
    "            labels = labels.to(device)\n",
    "            for e in extra:\n",
    "                e = e.to(device)   \n",
    "            outputs = model(inputs, *extra)\n",
    "            loss = criterion(outputs, labels)\n",
    "            total_loss += loss.item()\n",
    "            _, predicted = torch.max(outputs.data, 1)\n",
    "            y_true.extend(labels.cpu().numpy())\n",
    "            y_pred.extend(predicted.cpu().numpy())\n",
    "    \n",
    "    avg_loss = total_loss / len(test_loader)\n",
    "    accuracy, f1, precision, recall = evaluate_model_metrics(np.array(y_true), np.array(y_pred))\n",
    "    print(f'Loss: {avg_loss:.4f}, Accuracy: {accuracy:.4f}, F1-score: {f1:.4f}, Precision: {precision:.4f}, Recall: {recall:.4f}\\n')\n",
    "    return avg_loss, accuracy, f1, precision, recall\n",
    "\n",
    "# Function to calculate evaluation metrics\n",
    "def evaluate_model_metrics(y_true, y_pred):\n",
    "    accuracy = accuracy_score(y_true, y_pred)\n",
    "    f1 = f1_score(y_true, y_pred, average='macro', zero_division=0)\n",
    "    precision = precision_score(y_true, y_pred, average='macro', zero_division=0)\n",
    "    recall = recall_score(y_true, y_pred, average='macro', zero_division=0)\n",
    "    return accuracy, f1, precision, recall\n"
   ]
  },
  {
   "cell_type": "code",
   "execution_count": 29,
   "id": "798b881c",
   "metadata": {},
   "outputs": [
    {
     "name": "stderr",
     "output_type": "stream",
     "text": [
      "100%|███████████████████████████████████████████| 32/32 [01:33<00:00,  2.92s/it]"
     ]
    },
    {
     "name": "stdout",
     "output_type": "stream",
     "text": [
      "Loss: 1.8108, Accuracy: 0.3500, F1-score: 0.3433, Precision: 0.3860, Recall: 0.3490\n",
      "\n"
     ]
    },
    {
     "name": "stderr",
     "output_type": "stream",
     "text": [
      "\n"
     ]
    },
    {
     "data": {
      "text/plain": [
       "(1.8107835911214352,\n",
       " 0.35,\n",
       " 0.3433157367077415,\n",
       " 0.3860420336155393,\n",
       " 0.3490318741389112)"
      ]
     },
     "execution_count": 29,
     "metadata": {},
     "output_type": "execute_result"
    }
   ],
   "source": [
    "criterion = nn.CrossEntropyLoss()\n",
    "evaluate_model(trained_vgg_model, test_loader, criterion)"
   ]
  },
  {
   "cell_type": "code",
   "execution_count": 30,
   "id": "e9d05692",
   "metadata": {},
   "outputs": [
    {
     "name": "stderr",
     "output_type": "stream",
     "text": [
      "100%|███████████████████████████████████████████| 32/32 [01:34<00:00,  2.94s/it]"
     ]
    },
    {
     "name": "stdout",
     "output_type": "stream",
     "text": [
      "Loss: 13.7277, Accuracy: 0.1035, F1-score: 0.0188, Precision: 0.0103, Recall: 0.1000\n",
      "\n"
     ]
    },
    {
     "name": "stderr",
     "output_type": "stream",
     "text": [
      "\n"
     ]
    },
    {
     "data": {
      "text/plain": [
       "(13.727665781974792, 0.1035, 0.018758495695514275, 0.01035, 0.1)"
      ]
     },
     "execution_count": 30,
     "metadata": {},
     "output_type": "execute_result"
    }
   ],
   "source": [
    "# slightly faster than original model but accuracy is way down!\n",
    "evaluate_model(pruned_vgg_model, test_loader, criterion)"
   ]
  },
  {
   "cell_type": "code",
   "execution_count": 31,
   "id": "17a3792c",
   "metadata": {},
   "outputs": [
    {
     "name": "stderr",
     "output_type": "stream",
     "text": [
      "100%|███████████████████████████████████████████| 32/32 [01:32<00:00,  2.91s/it]"
     ]
    },
    {
     "name": "stdout",
     "output_type": "stream",
     "text": [
      "Loss: 1.8391, Accuracy: 0.3320, F1-score: 0.3246, Precision: 0.3718, Recall: 0.3307\n",
      "\n"
     ]
    },
    {
     "name": "stderr",
     "output_type": "stream",
     "text": [
      "\n"
     ]
    },
    {
     "data": {
      "text/plain": [
       "(1.8390845768153667,\n",
       " 0.332,\n",
       " 0.324594687237511,\n",
       " 0.3718084214903913,\n",
       " 0.33067123523739994)"
      ]
     },
     "execution_count": 31,
     "metadata": {},
     "output_type": "execute_result"
    }
   ],
   "source": [
    "less_pruned_vgg_model = prune_model(trained_vgg_model, 0.3)\n",
    "less_pruned_vgg_model.eval()\n",
    "\n",
    "# That's a better compromise\n",
    "\n",
    "evaluate_model(less_pruned_vgg_model, test_loader, criterion)"
   ]
  },
  {
   "cell_type": "code",
   "execution_count": 32,
   "id": "a1823588",
   "metadata": {},
   "outputs": [
    {
     "name": "stderr",
     "output_type": "stream",
     "text": [
      "100%|███████████████████████████████████████████| 32/32 [01:31<00:00,  2.87s/it]"
     ]
    },
    {
     "name": "stdout",
     "output_type": "stream",
     "text": [
      "Loss: 1.8108, Accuracy: 0.3500, F1-score: 0.3433, Precision: 0.3860, Recall: 0.3490\n",
      "\n"
     ]
    },
    {
     "name": "stderr",
     "output_type": "stream",
     "text": [
      "\n"
     ]
    },
    {
     "data": {
      "text/plain": [
       "(1.8107835911214352,\n",
       " 0.35,\n",
       " 0.3433157367077415,\n",
       " 0.3860420336155393,\n",
       " 0.3490318741389112)"
      ]
     },
     "execution_count": 32,
     "metadata": {},
     "output_type": "execute_result"
    }
   ],
   "source": [
    "# exactly the same metrics but remember, less memory usage during inference!\n",
    "evaluate_model(quantized_vgg_model, test_loader, criterion)"
   ]
  },
  {
   "cell_type": "code",
   "execution_count": null,
   "id": "614fbe77",
   "metadata": {},
   "outputs": [],
   "source": []
  },
  {
   "cell_type": "code",
   "execution_count": null,
   "id": "d70f55e9",
   "metadata": {},
   "outputs": [],
   "source": []
  }
 ],
 "metadata": {
  "kernelspec": {
   "display_name": "Python 3 (ipykernel)",
   "language": "python",
   "name": "python3"
  },
  "language_info": {
   "codemirror_mode": {
    "name": "ipython",
    "version": 3
   },
   "file_extension": ".py",
   "mimetype": "text/x-python",
   "name": "python",
   "nbconvert_exporter": "python",
   "pygments_lexer": "ipython3",
   "version": "3.10.11"
  }
 },
 "nbformat": 4,
 "nbformat_minor": 5
}
