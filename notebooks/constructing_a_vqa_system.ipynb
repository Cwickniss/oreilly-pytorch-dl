{
  "cells": [
    {
      "cell_type": "markdown",
      "id": "c95ac107",
      "metadata": {
        "id": "c95ac107"
      },
      "source": [
        "# Building a VQA system from scratch"
      ]
    },
    {
      "cell_type": "code",
      "source": [
        "!pip install datasets transformers[torch] wandb torchvision"
      ],
      "metadata": {
        "id": "9xHn43zhb-AM"
      },
      "id": "9xHn43zhb-AM",
      "execution_count": null,
      "outputs": []
    },
    {
      "cell_type": "code",
      "execution_count": null,
      "id": "39e3682d",
      "metadata": {
        "id": "39e3682d"
      },
      "outputs": [],
      "source": [
        "import numpy as np\n",
        "import matplotlib.pyplot as plt\n",
        "import torch\n",
        "from datasets import Dataset\n",
        "from torch.utils.data import DataLoader\n",
        "from torch.optim import AdamW\n",
        "\n",
        "from transformers import AutoModel, ViTModel, AutoModelForCausalLM, Trainer, TrainingArguments, ViTModel, ViTFeatureExtractor, AutoTokenizer\n",
        "import torch.nn as nn\n",
        "\n",
        "import os\n",
        "\n",
        "device = \"cuda\" if torch.cuda.is_available() else \"cpu\""
      ]
    },
    {
      "cell_type": "code",
      "execution_count": null,
      "id": "e02a6d01",
      "metadata": {
        "id": "e02a6d01"
      },
      "outputs": [],
      "source": []
    },
    {
      "cell_type": "code",
      "execution_count": null,
      "id": "af159176",
      "metadata": {
        "id": "af159176"
      },
      "outputs": [],
      "source": [
        "DECODER_MODEL = 'gpt2'\n",
        "TEXT_ENCODER_MODEL = 'distilbert-base-uncased'\n",
        "IMAGE_ENCODER_MODEL = \"facebook/dino-vitb16\""
      ]
    },
    {
      "cell_type": "code",
      "execution_count": null,
      "id": "37aafafc",
      "metadata": {
        "id": "37aafafc"
      },
      "outputs": [],
      "source": [
        "decoder_tokenizer = AutoTokenizer.from_pretrained(DECODER_MODEL)\n",
        "decoder_tokenizer.pad_token = decoder_tokenizer.eos_token\n",
        "decoder_tokenizer.padding_side = \"left\""
      ]
    },
    {
      "cell_type": "code",
      "execution_count": null,
      "id": "435e175b",
      "metadata": {
        "id": "435e175b"
      },
      "outputs": [],
      "source": [
        "class MultiModalModel(nn.Module):\n",
        "    \"\"\"\n",
        "    A MultiModalModel class used to perform visual question answering (VQA).\n",
        "    It consists of encoders for text and image and a decoder for generating the answer.\n",
        "\n",
        "    Attributes:\n",
        "        text_encoder: A model to encode text input.\n",
        "        image_encoder: A model to encode image input.\n",
        "        decoder: A model to decode and generate answers.\n",
        "        text_projection: A linear layer to project text encoding to a specific size.\n",
        "        image_projection: A linear layer to project image encoding to a specific size.\n",
        "    \"\"\"\n",
        "\n",
        "    def __init__(self, text_encoder_model, image_encoder_model, decoder_model, freeze=None, load_from=None):\n",
        "        \"\"\"\n",
        "        Initialize the MultiModalModel.\n",
        "\n",
        "        Parameters:\n",
        "            text_encoder_model (str): Pre-trained text encoder model name.\n",
        "            image_encoder_model (str): Pre-trained image encoder model name.\n",
        "            decoder_model (str): Pre-trained decoder model name.\n",
        "            freeze (str, optional): Which parts of the model to freeze. Can be 'encoders', 'decoder', 'all' or specific encoder.\n",
        "            load_from (str, optional): Path to a checkpoint file to load the model.\n",
        "        \"\"\"\n",
        "        super(MultiModalModel, self).__init__()\n",
        "\n",
        "        # Initialize text and image encoders\n",
        "        self.text_encoder = AutoModel.from_pretrained(text_encoder_model).to(device)\n",
        "        self.image_encoder = ViTModel.from_pretrained(image_encoder_model).to(device)\n",
        "\n",
        "        # Initialize the GPT-2 decoder\n",
        "        self.decoder = AutoModelForCausalLM.from_pretrained(\n",
        "            decoder_model,\n",
        "            add_cross_attention=True,\n",
        "            tie_word_embeddings=True\n",
        "        ).to(device)\n",
        "\n",
        "        # Initialize linear layers for projecting encoded features\n",
        "        self.text_projection = nn.Linear(self.text_encoder.config.hidden_size, self.decoder.config.hidden_size)\n",
        "        self.image_projection = nn.Linear(self.image_encoder.config.hidden_size, self.decoder.config.hidden_size)\n",
        "\n",
        "        # Freeze specified encoders if required or load from a checkpoint\n",
        "        if load_from:\n",
        "            self.load_model_checkpoint(load_from)\n",
        "        else:\n",
        "            self.freeze(freeze)\n",
        "\n",
        "    def freeze(self, freeze):\n",
        "        \"\"\"\n",
        "        Freeze specific parts of the model to prevent them from being updated during training.\n",
        "\n",
        "        Parameters:\n",
        "            freeze (str): Which parts to freeze. Can be 'encoders', 'decoder', 'all', or specific encoder.\n",
        "        \"\"\"\n",
        "        if not freeze or freeze == 'nothing':\n",
        "            return\n",
        "\n",
        "        print('Freezing...')\n",
        "        if freeze in ('encoders', 'all') or 'text_encoder' in freeze:\n",
        "            print('Freezing text encoder')\n",
        "            for param in self.text_encoder.parameters():\n",
        "                param.requires_grad = False\n",
        "\n",
        "        if freeze in ('encoders', 'all') or 'image_encoder' in freeze:\n",
        "            print('Freezing image encoder')\n",
        "            for param in self.image_encoder.parameters():\n",
        "                param.requires_grad = False\n",
        "\n",
        "        if freeze in ('decoder', 'all'):\n",
        "            print('Freezing decoder (except for cross attention)')\n",
        "            for name, param in self.decoder.named_parameters():\n",
        "                if \"crossattention\" not in name:\n",
        "                    param.requires_grad = False\n",
        "\n",
        "    def load_model_checkpoint(self, path):\n",
        "        \"\"\"\n",
        "        Load the model from a saved checkpoint.\n",
        "\n",
        "        Parameters:\n",
        "            path (str): Path to the saved checkpoint.\n",
        "        \"\"\"\n",
        "        checkpoint = torch.load(path)\n",
        "        checkpoint = {k.replace(\"module.\", \"\"): v for k, v in checkpoint.items()}\n",
        "        self.load_state_dict(checkpoint)\n",
        "\n",
        "    def check_input(self, tensor, tensor_name):\n",
        "        \"\"\"\n",
        "        Check if there are any NaN or infinite values in the input tensor.\n",
        "\n",
        "        Parameters:\n",
        "            tensor (torch.Tensor): Input tensor.\n",
        "            tensor_name (str): Name of the tensor for error logging.\n",
        "        \"\"\"\n",
        "        if torch.isnan(tensor).any() or torch.isinf(tensor).any():\n",
        "            print(f\"NaN or infinite values found in {tensor_name}\")\n",
        "\n",
        "    def encode_text(self, input_text, attention_mask):\n",
        "        \"\"\"\n",
        "        Encode text using the text encoder and project it to a specific size.\n",
        "\n",
        "        Parameters:\n",
        "            input_text (torch.Tensor): Input text tensor.\n",
        "            attention_mask (torch.Tensor): Attention mask for the input text.\n",
        "\n",
        "        Returns:\n",
        "            torch.Tensor: Projected text encoding.\n",
        "        \"\"\"\n",
        "        self.check_input(input_text, \"input_text\")\n",
        "        text_encoded = self.text_encoder(input_text, attention_mask=attention_mask).last_hidden_state.mean(dim=1)\n",
        "        return self.text_projection(text_encoded)\n",
        "\n",
        "    def encode_image(self, input_image):\n",
        "        \"\"\"\n",
        "        Encode image using the image encoder and project it to a specific size.\n",
        "\n",
        "        Parameters:\n",
        "            input_image (torch.Tensor): Input image tensor.\n",
        "\n",
        "        Returns:\n",
        "            torch.Tensor: Projected image encoding.\n",
        "        \"\"\"\n",
        "        self.check_input(input_image, \"input_image\")\n",
        "        image_encoded = self.image_encoder(input_image).last_hidden_state.mean(dim=1)\n",
        "        return self.image_projection(image_encoded)\n",
        "\n",
        "    def forward(self, input_text, input_image, decoder_input_ids, attention_mask, labels=None):\n",
        "        \"\"\"\n",
        "        Forward pass through the model.\n",
        "\n",
        "        Parameters:\n",
        "            input_text (torch.Tensor): Input text tensor.\n",
        "            input_image (torch.Tensor): Input image tensor.\n",
        "            decoder_input_ids (torch.Tensor): Decoder input IDs tensor.\n",
        "            attention_mask (torch.Tensor): Attention mask for the input text.\n",
        "            labels (torch.Tensor, optional): Ground truth labels for the target.\n",
        "\n",
        "        Returns:\n",
        "            torch.Tensor: Decoder output.\n",
        "        \"\"\"\n",
        "        self.check_input(decoder_input_ids, \"decoder_input_ids\")\n",
        "\n",
        "        # Encode text and image\n",
        "        text_projected = self.encode_text(input_text, attention_mask)\n",
        "        image_projected = self.encode_image(input_image)\n",
        "\n",
        "        # Combine encoded features\n",
        "        combined_features = (text_projected + image_projected) / 2\n",
        "\n",
        "        # Decode with GPT-2\n",
        "        decoder_outputs = self.decoder(\n",
        "            input_ids=decoder_input_ids,\n",
        "            labels=labels,\n",
        "            encoder_hidden_states=combined_features.unsqueeze(1)\n",
        "        )\n",
        "        return decoder_outputs\n",
        "\n",
        "    def generate(self, image, questions, max_text_length=5):\n",
        "        \"\"\"\n",
        "        Generate answers for the given image and list of questions.\n",
        "\n",
        "        Parameters:\n",
        "            image (Image): Input image.\n",
        "            questions (list): List of questions related to the image.\n",
        "            max_text_length (int, optional): Maximum text length for generated answers.\n",
        "\n",
        "        Returns:\n",
        "            Image: Input image.\n",
        "        \"\"\"\n",
        "        # Encode text and image\n",
        "        image = retrieve_image(image)\n",
        "        image_input = image_feature_extractor(images=[preprocess_image(image)], return_tensors=\"pt\")\n",
        "        input_image = image_input[\"pixel_values\"]\n",
        "        image_projected = self.encode_image(input_image)\n",
        "\n",
        "        for question in questions:\n",
        "            i = text_tokenizer(question, return_tensors='pt')\n",
        "            text_projected = self.encode_text(i['input_ids'], i['attention_mask'])\n",
        "\n",
        "            # Combine encoded features\n",
        "            combined_features = (text_projected + image_projected) / 2\n",
        "\n",
        "            generated_so_far = torch.LongTensor([[decoder_tokenizer.bos_token_id]])\n",
        "            with torch.no_grad():\n",
        "                for _ in tqdm(range(max_text_length)):\n",
        "\n",
        "                    decoder_outputs = self.decoder(\n",
        "                        input_ids=generated_so_far,\n",
        "                        encoder_hidden_states=combined_features.unsqueeze(1)\n",
        "                    )\n",
        "\n",
        "                    next_token_logits = decoder_outputs.logits[:, -1, :]\n",
        "                    next_token_probs = F.softmax(next_token_logits, dim=-1)\n",
        "                    next_token = next_token_logits.argmax(-1)\n",
        "                    confidence = next_token_probs[0, next_token].item()\n",
        "                    print(\"Next token:\", decoder_tokenizer.decode(next_token), \"Confidence:\", confidence)\n",
        "                    generated_so_far = torch.cat((generated_so_far, next_token.unsqueeze(0)), dim=1)\n",
        "            print(question, decoder_tokenizer.decode(generated_so_far[0]))\n",
        "\n",
        "        return image\n"
      ]
    },
    {
      "cell_type": "code",
      "source": [
        "text_tokenizer = AutoTokenizer.from_pretrained(TEXT_ENCODER_MODEL)\n",
        "image_feature_extractor = ViTFeatureExtractor.from_pretrained(IMAGE_ENCODER_MODEL)"
      ],
      "metadata": {
        "colab": {
          "base_uri": "https://localhost:8080/"
        },
        "id": "r5cy6-aHgtR2",
        "outputId": "2b124694-809f-4f1d-8013-3fd647c40f60"
      },
      "id": "r5cy6-aHgtR2",
      "execution_count": null,
      "outputs": [
        {
          "output_type": "stream",
          "name": "stderr",
          "text": [
            "/usr/local/lib/python3.10/dist-packages/transformers/models/vit/feature_extraction_vit.py:28: FutureWarning: The class ViTFeatureExtractor is deprecated and will be removed in version 5 of Transformers. Please use ViTImageProcessor instead.\n",
            "  warnings.warn(\n"
          ]
        }
      ]
    },
    {
      "cell_type": "code",
      "source": [],
      "metadata": {
        "id": "rrwjoizgg2oC"
      },
      "id": "rrwjoizgg2oC",
      "execution_count": null,
      "outputs": []
    },
    {
      "cell_type": "code",
      "execution_count": null,
      "id": "a880e69b",
      "metadata": {
        "id": "a880e69b"
      },
      "outputs": [],
      "source": [
        "from PIL import Image\n",
        "import torchvision.transforms as T\n",
        "from transformers import DataCollatorWithPadding\n",
        "import numpy as np\n",
        "from torchvision import transforms\n",
        "\n",
        "# Create a transform pipeline\n",
        "augment_pipeline = transforms.Compose([\n",
        "    transforms.RandomHorizontalFlip(),  # Random horizontal flip\n",
        "    transforms.RandomAffine(degrees=5, shear=5),  # Random affine transformation\n",
        "    # Add any other transforms you need here\n",
        "])\n",
        "\n",
        "def preprocess_image(image, augment_image=True):\n",
        "    # Open the image if the input is a file path\n",
        "    if type(image) == str:\n",
        "        img = Image.open(image)\n",
        "    else:\n",
        "        img = image\n",
        "\n",
        "    # Check the number of channels in the image and convert to RGB if necessary\n",
        "    if img.mode == 'L':  # 'L' stands for grayscale mode\n",
        "        img_rgb = img.convert('RGB')\n",
        "    else:\n",
        "        img_rgb = img\n",
        "\n",
        "    if augment_image:\n",
        "        img_rgb = augment_pipeline(img_rgb)\n",
        "\n",
        "    return img_rgb"
      ]
    },
    {
      "cell_type": "code",
      "execution_count": null,
      "id": "3c37356d",
      "metadata": {
        "id": "3c37356d"
      },
      "outputs": [],
      "source": [
        "from PIL import Image\n",
        "import os\n",
        "import json\n",
        "from collections import defaultdict\n",
        "import numpy as np\n",
        "from tqdm.auto import tqdm\n",
        "\n",
        "def retrieve_image(image_file):\n",
        "    try:\n",
        "        image = Image.open(image_file)\n",
        "        return image\n",
        "    except:\n",
        "        return None\n",
        "\n",
        "def load_vqa_data(\n",
        "    annotations_file, questions_file, images_folder, load_images=False,\n",
        "    start_at=None, end_at=None, max_images=None, max_questions=None,\n",
        "    consensus_threshold=0.9\n",
        "):\n",
        "    with open(annotations_file, \"r\") as f:\n",
        "        annotations_data = json.load(f)\n",
        "\n",
        "    with open(questions_file, \"r\") as f:\n",
        "        questions_data = json.load(f)\n",
        "\n",
        "    data = []\n",
        "    images_used = defaultdict(int)\n",
        "    # Create a dictionary to map question_id to the annotation data\n",
        "    annotations_dict = {annotation[\"question_id\"]: annotation for annotation in annotations_data[\"annotations\"]}\n",
        "    print(len(annotations_dict))\n",
        "    for question in tqdm(questions_data[\"questions\"][start_at:end_at]):\n",
        "        question_id = question[\"question_id\"]\n",
        "        annotation = annotations_dict[question_id]\n",
        "\n",
        "        image_id = question[\"image_id\"]\n",
        "        image_file = f\"{images_folder}/COCO_{images_folder}_{str(image_id).zfill(12)}.jpg\"\n",
        "        if max_questions and images_used[image_file] >= max_questions:\n",
        "            continue\n",
        "        all_answers = [ans[\"answer\"] for ans in annotation[\"answers\"]]\n",
        "        if (all_answers.count(annotation['multiple_choice_answer']) / len(all_answers)) < consensus_threshold:\n",
        "            continue\n",
        "\n",
        "        if load_images:\n",
        "            # Load the image and convert it to a numpy array\n",
        "            image = retrieve_image(image_file)\n",
        "            if not image:\n",
        "                continue\n",
        "            image.close()  # Close the image object\n",
        "\n",
        "        else:\n",
        "            if not os.path.exists(image_file):\n",
        "                continue\n",
        "            # Store the image file path\n",
        "            image = image_file\n",
        "\n",
        "        # Add the data as a dictionary\n",
        "        data.append(\n",
        "            {\n",
        "                \"image_id\": image_id,\n",
        "                \"question_id\": question_id,\n",
        "                \"question\": question[\"question\"],\n",
        "                \"answer\": decoder_tokenizer.bos_token + annotation[\"multiple_choice_answer\"] + decoder_tokenizer.eos_token,\n",
        "                \"all_answers\": all_answers,\n",
        "                \"image\": image,\n",
        "            }\n",
        "        )\n",
        "        images_used[image_file] += 1\n",
        "\n",
        "        if max_images and len(images_used) >= max_images:\n",
        "            break\n",
        "\n",
        "    return data\n"
      ]
    },
    {
      "cell_type": "code",
      "source": [],
      "metadata": {
        "id": "Qm_DC4u-XlTl"
      },
      "id": "Qm_DC4u-XlTl",
      "execution_count": null,
      "outputs": []
    },
    {
      "cell_type": "code",
      "source": [
        "import requests\n",
        "import os\n",
        "import zipfile\n",
        "from contextlib import closing\n",
        "import requests\n",
        "from tqdm import tqdm\n",
        "\n",
        "FILES = {\n",
        "    'v2_OpenEnded_mscoco_train2014_questions.json': 'https://www.dropbox.com/scl/fi/4nxioopcj62uwvtxvvruc/v2_OpenEnded_mscoco_train2014_questions.json?rlkey=fbycbpxmixscqb8mr8ouh62bl&dl=1',\n",
        "    'v2_mscoco_train2014_annotations.json': 'https://www.dropbox.com/scl/fi/h4eb6ikhlul99hynxbtu8/v2_mscoco_train2014_annotations.json?rlkey=lhunsc6nji7gllsly86xtt4la&dl=1',\n",
        "    'train2014.zip': 'https://www.dropbox.com/scl/fi/gprccokuke8nq46qgzuxy/train2014.zip?rlkey=h6bndf7m7pr6i10eocg997jlb&dl=1'\n",
        "}\n",
        "\n",
        "\n",
        "def download_file_with_progress(url, filename):\n",
        "    response = requests.get(url, stream=True)\n",
        "    total_size_in_bytes = int(response.headers.get('content-length', 0))\n",
        "    block_size = 1024  # 1 Kibibyte\n",
        "\n",
        "    progress_bar = tqdm(total=total_size_in_bytes, unit='iB', unit_scale=True)\n",
        "\n",
        "    with open(filename, 'wb') as file:\n",
        "        for data in response.iter_content(block_size):\n",
        "            progress_bar.update(len(data))\n",
        "            file.write(data)\n",
        "    progress_bar.close()\n",
        "\n",
        "    if total_size_in_bytes != 0 and progress_bar.n != total_size_in_bytes:\n",
        "        print(\"ERROR, something went wrong\")\n",
        "\n",
        "\n",
        "def extract_zip(file_name, target_dir=\".\"):\n",
        "    try:\n",
        "        with zipfile.ZipFile(file_name, 'r') as zip_ref:\n",
        "            # Optional: List files in zip or extract specific files\n",
        "            # file_list = zip_ref.namelist()\n",
        "            # zip_ref.extractall(target_dir, members=file_list)\n",
        "            zip_ref.extractall(target_dir)\n",
        "    except zipfile.BadZipFile:\n",
        "        print(f\"Error: Corrupted ZIP file - {file_name}\")\n",
        "\n",
        "for name, url in FILES.items():\n",
        "    if os.path.exists(name):\n",
        "        print(f'{name} already downloaded')\n",
        "    else:\n",
        "        print(f\"Downloading {name}...\")\n",
        "        try:\n",
        "            download_file_with_progress(url, name)\n",
        "            print(f\"Downloaded {name}!\")\n",
        "        except Exception as e:\n",
        "            print(f\"Error downloading {name}: {e}\")\n",
        "            continue\n",
        "\n",
        "        if 'zip' in name:\n",
        "            print(f\"Extracting {name}...\")\n",
        "            extract_zip(name)\n",
        "            print(f\"Extracted {name}!\")\n"
      ],
      "metadata": {
        "colab": {
          "base_uri": "https://localhost:8080/"
        },
        "id": "l7wrqcz1J3Vl",
        "outputId": "fd397c0d-07cc-4623-c4d3-3232c2d11880"
      },
      "id": "l7wrqcz1J3Vl",
      "execution_count": null,
      "outputs": [
        {
          "output_type": "stream",
          "name": "stdout",
          "text": [
            "v2_OpenEnded_mscoco_train2014_questions.json already downloaded\n",
            "v2_mscoco_train2014_annotations.json already downloaded\n",
            "train2014.zip already downloaded\n"
          ]
        }
      ]
    },
    {
      "cell_type": "code",
      "source": [
        "vqa_data = load_vqa_data(\n",
        "    \"v2_mscoco_train2014_annotations.json\",\n",
        "    \"v2_OpenEnded_mscoco_train2014_questions.json\",\n",
        "    \"train2014\",\n",
        ")"
      ],
      "metadata": {
        "colab": {
          "base_uri": "https://localhost:8080/"
        },
        "id": "nYmO7wmeMELi",
        "outputId": "79b4935b-05ef-416f-e6cb-dbaf043d37c4"
      },
      "id": "nYmO7wmeMELi",
      "execution_count": null,
      "outputs": [
        {
          "output_type": "stream",
          "name": "stdout",
          "text": [
            "443757\n"
          ]
        },
        {
          "output_type": "stream",
          "name": "stderr",
          "text": [
            "100%|██████████| 443757/443757 [00:03<00:00, 133691.25it/s]\n"
          ]
        }
      ]
    },
    {
      "cell_type": "code",
      "execution_count": null,
      "id": "40c0e673",
      "metadata": {
        "id": "40c0e673",
        "colab": {
          "base_uri": "https://localhost:8080/"
        },
        "outputId": "b0c135c2-05b0-4a3e-8962-b56d30ee1f77"
      },
      "outputs": [
        {
          "output_type": "execute_result",
          "data": {
            "text/plain": [
              "{'image_id': 458752,\n",
              " 'question_id': 458752001,\n",
              " 'question': 'What position is this man playing?',\n",
              " 'answer': '<|endoftext|>pitcher<|endoftext|>',\n",
              " 'all_answers': ['pitcher',\n",
              "  'catcher',\n",
              "  'pitcher',\n",
              "  'pitcher',\n",
              "  'pitcher',\n",
              "  'pitcher',\n",
              "  'pitcher',\n",
              "  'pitcher',\n",
              "  'pitcher',\n",
              "  'pitcher'],\n",
              " 'image': 'train2014/COCO_train2014_000000458752.jpg'}"
            ]
          },
          "metadata": {},
          "execution_count": 11
        }
      ],
      "source": [
        "vqa_data[0]"
      ]
    },
    {
      "cell_type": "code",
      "execution_count": null,
      "id": "5dfc64a2",
      "metadata": {
        "id": "5dfc64a2",
        "colab": {
          "base_uri": "https://localhost:8080/"
        },
        "outputId": "c3f4788d-164d-4bd7-9409-86a51d35813f"
      },
      "outputs": [
        {
          "output_type": "execute_result",
          "data": {
            "text/plain": [
              "212737"
            ]
          },
          "metadata": {},
          "execution_count": 12
        }
      ],
      "source": [
        "len(vqa_data)"
      ]
    },
    {
      "cell_type": "code",
      "execution_count": null,
      "id": "e48ba837",
      "metadata": {
        "id": "e48ba837"
      },
      "outputs": [],
      "source": [
        "import random\n",
        "\n",
        "random.seed(42)\n",
        "random.shuffle(vqa_data)"
      ]
    },
    {
      "cell_type": "code",
      "execution_count": null,
      "id": "585b2cf5",
      "metadata": {
        "scrolled": true,
        "id": "585b2cf5"
      },
      "outputs": [],
      "source": [
        "split = int(len(vqa_data) * 0.9)\n",
        "train_data, val_data = vqa_data[:split], vqa_data[split:]"
      ]
    },
    {
      "cell_type": "code",
      "execution_count": null,
      "id": "c3bee23c",
      "metadata": {
        "id": "c3bee23c",
        "colab": {
          "base_uri": "https://localhost:8080/"
        },
        "outputId": "ee8e5656-d47b-4cb6-fe41-b9d39cbf2c4a"
      },
      "outputs": [
        {
          "output_type": "execute_result",
          "data": {
            "text/plain": [
              "(191463, 21274)"
            ]
          },
          "metadata": {},
          "execution_count": 15
        }
      ],
      "source": [
        "len(train_data), len(val_data)"
      ]
    },
    {
      "cell_type": "code",
      "source": [
        "import pandas as pd\n",
        "pd.Series([t['answer'] for t in train_data]).value_counts().head(10).plot.bar()"
      ],
      "metadata": {
        "colab": {
          "base_uri": "https://localhost:8080/",
          "height": 671
        },
        "id": "3WvI5a33sMdy",
        "outputId": "85949496-89ba-4ffb-bd61-8be80de861e5"
      },
      "id": "3WvI5a33sMdy",
      "execution_count": null,
      "outputs": [
        {
          "output_type": "execute_result",
          "data": {
            "text/plain": [
              "<Axes: >"
            ]
          },
          "metadata": {},
          "execution_count": 16
        },
        {
          "output_type": "display_data",
          "data": {
            "text/plain": [
              "<Figure size 640x480 with 1 Axes>"
            ],
            "image/png": "[encoded data removed]"
          },
          "metadata": {}
        }
      ]
    },
    {
      "cell_type": "code",
      "execution_count": null,
      "id": "63935b9b",
      "metadata": {
        "id": "63935b9b"
      },
      "outputs": [],
      "source": [
        "train_dataset = Dataset.from_dict({key: [item[key] for item in train_data] for key in train_data[0].keys()})\n",
        "val_dataset = Dataset.from_dict({key: [item[key] for item in val_data] for key in val_data[0].keys()})\n",
        "\n",
        "# Save datasets to disk (optional)\n",
        "# train_dataset.save_to_disk(\"vqa_train_dataset\")\n",
        "# val_dataset.save_to_disk(\"vqa_val_dataset\")"
      ]
    },
    {
      "cell_type": "code",
      "source": [
        "image_feature_extractor.do_normalize = False  # controverisal pre-processing alteration"
      ],
      "metadata": {
        "id": "4MAPLv0rimdb"
      },
      "id": "4MAPLv0rimdb",
      "execution_count": null,
      "outputs": []
    },
    {
      "cell_type": "code",
      "source": [],
      "metadata": {
        "id": "e9P23SKWlsFI"
      },
      "id": "e9P23SKWlsFI",
      "execution_count": null,
      "outputs": []
    },
    {
      "cell_type": "code",
      "source": [
        "def data_collator(batch, augment_image=True):\n",
        "    # Preprocess and tokenize text\n",
        "    text_inputs = [sample['question'] for sample in batch]\n",
        "    text_tensors = text_tokenizer(text_inputs, padding=True, return_tensors=\"pt\")\n",
        "    image_inputs = image_feature_extractor([preprocess_image(sample[\"image\"], augment_image=augment_image) for sample in batch])\n",
        "    image_tensors = torch.from_numpy(np.stack(image_inputs['pixel_values']))\n",
        "    # Prepare decoder inputs (targets)\n",
        "    target_inputs = [sample[\"answer\"] for sample in batch]\n",
        "    target_tensors = decoder_tokenizer(target_inputs, padding=True, return_tensors=\"pt\")\n",
        "    # Return input tensors\n",
        "    labels = target_tensors[\"input_ids\"].clone()\n",
        "    labels = torch.where((labels == decoder_tokenizer.pad_token_id), -100, labels)\n",
        "    labels[:, -1] = decoder_tokenizer.eos_token_id\n",
        "    return {\n",
        "        \"input_text\": text_tensors[\"input_ids\"].to(device),\n",
        "        \"attention_mask\": text_tensors[\"attention_mask\"].to(device),\n",
        "        \"input_image\": image_tensors.to(device),\n",
        "        \"decoder_input_ids\": target_tensors[\"input_ids\"].to(device),\n",
        "        \"labels\": labels.to(device)\n",
        "    }\n",
        "\n",
        "for i, d in enumerate(train_data):\n",
        "    if len(d['answer']) > (len(train_data[0]['answer']) + 10):\n",
        "        print([train_data[0]['answer'], train_data[i]['answer']])\n",
        "\n",
        "        batch = data_collator([train_data[0], train_data[i]])\n",
        "        print(batch['decoder_input_ids'])\n",
        "\n",
        "        print(batch['labels'])\n",
        "        break"
      ],
      "metadata": {
        "id": "Dzdd6-F8d3Oo",
        "colab": {
          "base_uri": "https://localhost:8080/"
        },
        "outputId": "81eeb243-eb8e-40f8-a361-c9a92cd4d748"
      },
      "id": "Dzdd6-F8d3Oo",
      "execution_count": null,
      "outputs": [
        {
          "output_type": "stream",
          "name": "stdout",
          "text": [
            "['<|endoftext|>yes<|endoftext|>', '<|endoftext|>de anza college<|endoftext|>']\n",
            "tensor([[50256, 50256, 50256, 50256,  8505, 50256],\n",
            "        [50256,  2934,   281,  4496,  4152, 50256]], device='cuda:0')\n",
            "tensor([[ -100,  -100,  -100,  -100,  8505, 50256],\n",
            "        [ -100,  2934,   281,  4496,  4152, 50256]], device='cuda:0')\n"
          ]
        }
      ]
    },
    {
      "cell_type": "code",
      "execution_count": null,
      "id": "3d8d8190",
      "metadata": {
        "scrolled": true,
        "id": "3d8d8190"
      },
      "outputs": [],
      "source": [
        "training_args = TrainingArguments(\n",
        "    output_dir=\"./vqa_custom\",\n",
        "    # optim='adamw_torch',\n",
        "    num_train_epochs=5,\n",
        "    per_device_train_batch_size=32,\n",
        "    per_device_eval_batch_size=128,\n",
        "    gradient_accumulation_steps=2,\n",
        "    evaluation_strategy=\"epoch\",\n",
        "    logging_steps=10,\n",
        "    fp16=True,  # only possible if using a GPU\n",
        "    save_strategy='epoch',\n",
        "    report_to='wandb',\n",
        "    warmup_ratio=0.1,\n",
        "    learning_rate=2e-5,\n",
        "    lr_scheduler_type='cosine',\n",
        "    save_total_limit=1,\n",
        "    save_safetensors=False,\n",
        "    load_best_model_at_end=True,\n",
        "    metric_for_best_model='eval_loss',\n",
        ")\n",
        "\n",
        "class CustomTrainer(Trainer):\n",
        "    def __init__(self, *args, train_dataloader=None, eval_dataloader=None, test_dataloader=None, **kwargs):\n",
        "        super().__init__(*args, **kwargs)\n",
        "        self._train_dataloader = train_dataloader\n",
        "        self._eval_dataloader = eval_dataloader\n",
        "        self._test_dataloader = test_dataloader\n",
        "\n",
        "    def get_train_dataloader(self):\n",
        "        if self._train_dataloader is not None:\n",
        "            return self._train_dataloader\n",
        "        return super().get_train_dataloader()\n",
        "\n",
        "    def get_eval_dataloader(self, dataset=None):\n",
        "        if self._eval_dataloader is not None:\n",
        "            return self._eval_dataloader\n",
        "        return super().get_eval_dataloader(dataset)\n",
        "\n",
        "    def get_test_dataloader(self, dataset=None):\n",
        "        if self._test_dataloader is not None:\n",
        "            return self._test_dataloader\n",
        "        return super().get_test_dataloader(dataset)\n"
      ]
    },
    {
      "cell_type": "code",
      "execution_count": null,
      "id": "7cf15a48",
      "metadata": {
        "scrolled": true,
        "id": "7cf15a48",
        "colab": {
          "base_uri": "https://localhost:8080/"
        },
        "outputId": "d5946967-53de-4931-9fb5-c992507f7f7e"
      },
      "outputs": [
        {
          "output_type": "stream",
          "name": "stderr",
          "text": [
            "Some weights of ViTModel were not initialized from the model checkpoint at facebook/dino-vitb16 and are newly initialized: ['pooler.dense.weight', 'pooler.dense.bias']\n",
            "You should probably TRAIN this model on a down-stream task to be able to use it for predictions and inference.\n",
            "Some weights of GPT2LMHeadModel were not initialized from the model checkpoint at gpt2 and are newly initialized: ['h.2.crossattention.c_proj.bias', 'h.7.ln_cross_attn.weight', 'h.1.ln_cross_attn.bias', 'h.1.crossattention.c_attn.bias', 'h.1.crossattention.c_proj.bias', 'h.8.crossattention.c_attn.weight', 'h.7.crossattention.c_proj.weight', 'h.6.crossattention.c_proj.weight', 'h.1.crossattention.c_attn.weight', 'h.2.crossattention.c_attn.weight', 'h.6.crossattention.q_attn.bias', 'h.3.ln_cross_attn.weight', 'h.9.crossattention.q_attn.bias', 'h.9.crossattention.c_proj.bias', 'h.10.crossattention.c_attn.weight', 'h.0.crossattention.c_attn.bias', 'h.4.crossattention.c_proj.weight', 'h.6.crossattention.q_attn.weight', 'h.8.crossattention.c_attn.bias', 'h.3.crossattention.q_attn.weight', 'h.10.crossattention.c_attn.bias', 'h.4.crossattention.c_attn.weight', 'h.11.crossattention.c_attn.bias', 'h.9.crossattention.c_attn.bias', 'h.2.crossattention.q_attn.bias', 'h.4.ln_cross_attn.weight', 'h.2.crossattention.c_proj.weight', 'h.11.crossattention.c_proj.weight', 'h.8.crossattention.c_proj.weight', 'h.0.crossattention.q_attn.weight', 'h.9.crossattention.q_attn.weight', 'h.7.crossattention.c_attn.weight', 'h.0.ln_cross_attn.weight', 'h.11.crossattention.q_attn.bias', 'h.4.crossattention.c_proj.bias', 'h.6.crossattention.c_proj.bias', 'h.8.crossattention.c_proj.bias', 'h.0.crossattention.q_attn.bias', 'h.8.ln_cross_attn.bias', 'h.10.crossattention.q_attn.weight', 'h.6.crossattention.c_attn.weight', 'h.11.ln_cross_attn.weight', 'h.9.crossattention.c_proj.weight', 'h.10.ln_cross_attn.weight', 'h.7.crossattention.q_attn.weight', 'h.5.crossattention.q_attn.bias', 'h.6.crossattention.c_attn.bias', 'h.5.ln_cross_attn.weight', 'h.5.crossattention.c_attn.weight', 'h.7.crossattention.c_attn.bias', 'h.2.crossattention.c_attn.bias', 'h.9.crossattention.c_attn.weight', 'h.3.crossattention.q_attn.bias', 'h.0.crossattention.c_proj.bias', 'h.2.crossattention.q_attn.weight', 'h.10.crossattention.c_proj.weight', 'h.5.crossattention.c_proj.bias', 'h.5.ln_cross_attn.bias', 'h.2.ln_cross_attn.weight', 'h.7.crossattention.q_attn.bias', 'h.0.crossattention.c_proj.weight', 'h.7.crossattention.c_proj.bias', 'h.4.ln_cross_attn.bias', 'h.1.crossattention.q_attn.weight', 'h.4.crossattention.q_attn.bias', 'h.1.crossattention.c_proj.weight', 'h.11.crossattention.c_attn.weight', 'h.3.crossattention.c_proj.weight', 'h.11.crossattention.c_proj.bias', 'h.0.ln_cross_attn.bias', 'h.8.crossattention.q_attn.bias', 'h.10.crossattention.c_proj.bias', 'h.3.ln_cross_attn.bias', 'h.10.ln_cross_attn.bias', 'h.3.crossattention.c_proj.bias', 'h.4.crossattention.q_attn.weight', 'h.11.ln_cross_attn.bias', 'h.1.crossattention.q_attn.bias', 'h.2.ln_cross_attn.bias', 'h.0.crossattention.c_attn.weight', 'h.8.crossattention.q_attn.weight', 'h.3.crossattention.c_attn.weight', 'h.9.ln_cross_attn.weight', 'h.9.ln_cross_attn.bias', 'h.5.crossattention.c_proj.weight', 'h.5.crossattention.c_attn.bias', 'h.10.crossattention.q_attn.bias', 'h.6.ln_cross_attn.bias', 'h.3.crossattention.c_attn.bias', 'h.5.crossattention.q_attn.weight', 'h.7.ln_cross_attn.bias', 'h.6.ln_cross_attn.weight', 'h.1.ln_cross_attn.weight', 'h.11.crossattention.q_attn.weight', 'h.8.ln_cross_attn.weight', 'h.4.crossattention.c_attn.bias']\n",
            "You should probably TRAIN this model on a down-stream task to be able to use it for predictions and inference.\n"
          ]
        }
      ],
      "source": [
        "model = MultiModalModel(\n",
        "    image_encoder_model=IMAGE_ENCODER_MODEL, text_encoder_model=TEXT_ENCODER_MODEL,\n",
        "    decoder_model=DECODER_MODEL, freeze='nothing')"
      ]
    },
    {
      "cell_type": "code",
      "execution_count": null,
      "id": "8e7cf31e",
      "metadata": {
        "id": "8e7cf31e",
        "colab": {
          "base_uri": "https://localhost:8080/"
        },
        "outputId": "ea24f2d8-c6ea-4503-fa5c-e1e67e973abf"
      },
      "outputs": [
        {
          "output_type": "stream",
          "name": "stdout",
          "text": [
            "Number of trainable parameters: 306,739,968\n"
          ]
        }
      ],
      "source": [
        "def count_trainable_parameters(model):\n",
        "    return sum(p.numel() for p in model.parameters() if p.requires_grad)\n",
        "\n",
        "num_trainable_params = count_trainable_parameters(model)\n",
        "print(f\"Number of trainable parameters: {num_trainable_params:,}\")"
      ]
    },
    {
      "cell_type": "code",
      "execution_count": null,
      "id": "d74128e2",
      "metadata": {
        "scrolled": true,
        "id": "d74128e2"
      },
      "outputs": [],
      "source": [
        "from transformers import Trainer, TrainingArguments\n",
        "from torch.utils.data import DataLoader\n",
        "\n",
        "train_dataloader = DataLoader(\n",
        "    train_dataset, batch_size=training_args.per_device_train_batch_size,\n",
        "    collate_fn=data_collator, shuffle=True,\n",
        ")\n",
        "eval_dataloader = DataLoader(\n",
        "    val_dataset, batch_size=training_args.per_device_eval_batch_size,\n",
        "    collate_fn=lambda x: data_collator(x, augment_image=False)\n",
        ")\n",
        "\n",
        "# Use the CustomTrainer class\n",
        "trainer = CustomTrainer(\n",
        "    model=model,\n",
        "    args=training_args,\n",
        "    train_dataloader=train_dataloader,\n",
        "    eval_dataloader=eval_dataloader,\n",
        ")"
      ]
    },
    {
      "cell_type": "code",
      "source": [
        "assert model.text_encoder.device == model.image_encoder.device == model.decoder.device"
      ],
      "metadata": {
        "id": "tjxZ7Z_VlAaR"
      },
      "id": "tjxZ7Z_VlAaR",
      "execution_count": null,
      "outputs": []
    },
    {
      "cell_type": "code",
      "execution_count": null,
      "id": "6be0afbe",
      "metadata": {
        "scrolled": true,
        "id": "6be0afbe",
        "colab": {
          "base_uri": "https://localhost:8080/",
          "height": 523
        },
        "outputId": "99ca7832-8547-4f5a-96de-57bd11ea706e"
      },
      "outputs": [
        {
          "output_type": "stream",
          "name": "stdout",
          "text": [
            "answer || <|endoftext|>red<|endoftext|>\n",
            "decoder_input_ids tensor([[50256,   445, 50256]], device='cuda:0')\n",
            "model ouput ids tensor([[ 198, 7234,  464]], device='cuda:0')\n",
            "tensor(8.0341, device='cuda:0', grad_fn=<NllLossBackward0>)\n"
          ]
        },
        {
          "output_type": "display_data",
          "data": {
            "text/plain": [
              "<Figure size 640x480 with 1 Axes>"
            ],
            "image/png": "[encoded data removed]"
          },
          "metadata": {}
        }
      ],
      "source": [
        "v = val_dataset[1]\n",
        "batch = data_collator([v])\n",
        "print('answer ||', v['answer'])\n",
        "print('decoder_input_ids', batch['decoder_input_ids'])\n",
        "model_output = model(**batch)\n",
        "output_ids = torch.argmax(model_output.logits, dim=-1)\n",
        "print('model ouput ids', output_ids)\n",
        "# Decode the token IDs into text\n",
        "decoded_output = decoder_tokenizer.decode(output_ids[0], skip_special_tokens=True).strip()\n",
        "print(model_output.loss)\n",
        "# show input_image\n",
        "plt.imshow(batch['input_image'][0].cpu().permute(1, 2, 0))\n",
        "plt.title(f'{v[\"question\"]} || {decoded_output}')\n",
        "plt.show()"
      ]
    },
    {
      "cell_type": "code",
      "execution_count": null,
      "id": "0b40149a",
      "metadata": {
        "scrolled": true,
        "id": "0b40149a",
        "colab": {
          "base_uri": "https://localhost:8080/",
          "height": 234
        },
        "outputId": "ef0a84df-3d64-4841-b02a-aa9bbe34d552"
      },
      "outputs": [
        {
          "output_type": "display_data",
          "data": {
            "text/plain": [
              "<IPython.core.display.HTML object>"
            ],
            "text/html": [
              "\n",
              "    <div>\n",
              "      \n",
              "      <progress value='167' max='167' style='width:300px; height:20px; vertical-align: middle;'></progress>\n",
              "      [167/167 03:48]\n",
              "    </div>\n",
              "    "
            ]
          },
          "metadata": {}
        },
        {
          "output_type": "stream",
          "name": "stderr",
          "text": [
            "\u001b[34m\u001b[1mwandb\u001b[0m: Currently logged in as: \u001b[33mprofoz\u001b[0m. Use \u001b[1m`wandb login --relogin`\u001b[0m to force relogin\n"
          ]
        },
        {
          "output_type": "display_data",
          "data": {
            "text/plain": [
              "<IPython.core.display.HTML object>"
            ],
            "text/html": [
              "Tracking run with wandb version 0.16.3"
            ]
          },
          "metadata": {}
        },
        {
          "output_type": "display_data",
          "data": {
            "text/plain": [
              "<IPython.core.display.HTML object>"
            ],
            "text/html": [
              "Run data is saved locally in <code>/content/wandb/run-20240215_170819-g7sz8sxf</code>"
            ]
          },
          "metadata": {}
        },
        {
          "output_type": "display_data",
          "data": {
            "text/plain": [
              "<IPython.core.display.HTML object>"
            ],
            "text/html": [
              "Syncing run <strong><a href='https://wandb.ai/profoz/huggingface/runs/g7sz8sxf' target=\"_blank\">euphoric-admirer-262</a></strong> to <a href='https://wandb.ai/profoz/huggingface' target=\"_blank\">Weights & Biases</a> (<a href='https://wandb.me/run' target=\"_blank\">docs</a>)<br/>"
            ]
          },
          "metadata": {}
        },
        {
          "output_type": "display_data",
          "data": {
            "text/plain": [
              "<IPython.core.display.HTML object>"
            ],
            "text/html": [
              " View project at <a href='https://wandb.ai/profoz/huggingface' target=\"_blank\">https://wandb.ai/profoz/huggingface</a>"
            ]
          },
          "metadata": {}
        },
        {
          "output_type": "display_data",
          "data": {
            "text/plain": [
              "<IPython.core.display.HTML object>"
            ],
            "text/html": [
              " View run at <a href='https://wandb.ai/profoz/huggingface/runs/g7sz8sxf' target=\"_blank\">https://wandb.ai/profoz/huggingface/runs/g7sz8sxf</a>"
            ]
          },
          "metadata": {}
        },
        {
          "output_type": "execute_result",
          "data": {
            "text/plain": [
              "{'eval_loss': 9.358636856079102,\n",
              " 'eval_runtime': 230.072,\n",
              " 'eval_samples_per_second': 92.467,\n",
              " 'eval_steps_per_second': 0.726}"
            ]
          },
          "metadata": {},
          "execution_count": 26
        }
      ],
      "source": [
        "trainer.evaluate()"
      ]
    },
    {
      "cell_type": "code",
      "execution_count": null,
      "id": "587c6c04",
      "metadata": {
        "scrolled": true,
        "id": "587c6c04",
        "colab": {
          "base_uri": "https://localhost:8080/",
          "height": 476
        },
        "outputId": "c7eb59fd-d24e-46b7-be38-898427aa683a"
      },
      "outputs": [
        {
          "data": {
            "text/html": [
              "\n",
              "    <div>\n",
              "      \n",
              "      <progress value='10821' max='14960' style='width:300px; height:20px; vertical-align: middle;'></progress>\n",
              "      [10821/14960 3:17:40 < 1:15:37, 0.91 it/s, Epoch 3.62/5]\n",
              "    </div>\n",
              "    <table border=\"1\" class=\"dataframe\">\n",
              "  <thead>\n",
              " <tr style=\"text-align: left;\">\n",
              "      <th>Epoch</th>\n",
              "      <th>Training Loss</th>\n",
              "      <th>Validation Loss</th>\n",
              "    </tr>\n",
              "  </thead>\n",
              "  <tbody>\n",
              "    <tr>\n",
              "      <td>1</td>\n",
              "      <td>0.871400</td>\n",
              "      <td>0.761826</td>\n",
              "    </tr>\n",
              "    <tr>\n",
              "      <td>2</td>\n",
              "      <td>0.659400</td>\n",
              "      <td>0.669992</td>\n",
              "    </tr>\n",
              "    <tr>\n",
              "      <td>3</td>\n",
              "      <td>0.574100</td>\n",
              "      <td>0.639570</td>\n",
              "    </tr>\n",
              "  </tbody>\n",
              "</table><p>"
            ],
            "text/plain": [
              "<IPython.core.display.HTML object>"
            ]
          },
          "metadata": {},
          "output_type": "display_data"
        },
        {
          "data": {
            "text/html": [
              "\n",
              "    <div>\n",
              "      \n",
              "      <progress value='334' max='167' style='width:300px; height:20px; vertical-align: middle;'></progress>\n",
              "      [167/167 58:43]\n",
              "    </div>\n",
              "    "
            ],
            "text/plain": [
              "<IPython.core.display.HTML object>"
            ]
          },
          "metadata": {},
          "output_type": "display_data"
        },
        {
          "output_type": "display_data",
          "data": {
            "text/plain": [
              "<IPython.core.display.HTML object>"
            ],
            "text/html": [
              "\n",
              "    <div>\n",
              "      \n",
              "      <progress value='14960' max='14960' style='width:300px; height:20px; vertical-align: middle;'></progress>\n",
              "      [14960/14960 4:38:01, Epoch 5/5]\n",
              "    </div>\n",
              "    <table border=\"1\" class=\"dataframe\">\n",
              "  <thead>\n",
              " <tr style=\"text-align: left;\">\n",
              "      <th>Epoch</th>\n",
              "      <th>Training Loss</th>\n",
              "      <th>Validation Loss</th>\n",
              "    </tr>\n",
              "  </thead>\n",
              "  <tbody>\n",
              "    <tr>\n",
              "      <td>1</td>\n",
              "      <td>0.871400</td>\n",
              "      <td>0.761826</td>\n",
              "    </tr>\n",
              "    <tr>\n",
              "      <td>2</td>\n",
              "      <td>0.659400</td>\n",
              "      <td>0.669992</td>\n",
              "    </tr>\n",
              "    <tr>\n",
              "      <td>3</td>\n",
              "      <td>0.574100</td>\n",
              "      <td>0.639570</td>\n",
              "    </tr>\n",
              "    <tr>\n",
              "      <td>4</td>\n",
              "      <td>0.474200</td>\n",
              "      <td>0.638812</td>\n",
              "    </tr>\n",
              "    <tr>\n",
              "      <td>5</td>\n",
              "      <td>0.448100</td>\n",
              "      <td>0.648465</td>\n",
              "    </tr>\n",
              "  </tbody>\n",
              "</table><p>"
            ]
          },
          "metadata": {}
        },
        {
          "output_type": "execute_result",
          "data": {
            "text/plain": [
              "TrainOutput(global_step=14960, training_loss=0.7233992808642872, metrics={'train_runtime': 16682.1912, 'train_samples_per_second': 57.385, 'train_steps_per_second': 0.897, 'total_flos': 0.0, 'train_loss': 0.7233992808642872, 'epoch': 5.0})"
            ]
          },
          "metadata": {},
          "execution_count": 27
        }
      ],
      "source": [
        "trainer.train()"
      ]
    },
    {
      "cell_type": "code",
      "execution_count": null,
      "id": "18b80c32",
      "metadata": {
        "id": "18b80c32",
        "colab": {
          "base_uri": "https://localhost:8080/",
          "height": 126
        },
        "outputId": "034179fd-3b36-4abf-960e-56a0d3c29c2e"
      },
      "outputs": [
        {
          "output_type": "display_data",
          "data": {
            "text/plain": [
              "<IPython.core.display.HTML object>"
            ],
            "text/html": [
              "\n",
              "    <div>\n",
              "      \n",
              "      <progress value='167' max='167' style='width:300px; height:20px; vertical-align: middle;'></progress>\n",
              "      [167/167 04:01]\n",
              "    </div>\n",
              "    "
            ]
          },
          "metadata": {}
        },
        {
          "output_type": "execute_result",
          "data": {
            "text/plain": [
              "{'eval_loss': 0.638812243938446,\n",
              " 'eval_runtime': 242.7185,\n",
              " 'eval_samples_per_second': 87.649,\n",
              " 'eval_steps_per_second': 0.688,\n",
              " 'epoch': 5.0}"
            ]
          },
          "metadata": {},
          "execution_count": 28
        }
      ],
      "source": [
        "trainer.evaluate()"
      ]
    },
    {
      "cell_type": "code",
      "source": [
        "v = val_dataset[1]\n",
        "batch = data_collator([v])\n",
        "print('answer ||', v['answer'])\n",
        "print('decoder_input_ids', batch['decoder_input_ids'])\n",
        "model_output = model(**batch)\n",
        "output_ids = torch.argmax(model_output.logits, dim=-1)\n",
        "print('model ouput ids', output_ids)\n",
        "# Decode the token IDs into text\n",
        "decoded_output = decoder_tokenizer.decode(output_ids[0], skip_special_tokens=True).strip()\n",
        "print(model_output.loss)\n",
        "# show input_image\n",
        "plt.imshow(batch['input_image'][0].cpu().permute(1, 2, 0))\n",
        "plt.title(f'{v[\"question\"]} || {decoded_output}')\n",
        "plt.show()"
      ],
      "metadata": {
        "id": "3gDJzhcYq_h9"
      },
      "id": "3gDJzhcYq_h9",
      "execution_count": null,
      "outputs": []
    },
    {
      "cell_type": "code",
      "source": [],
      "metadata": {
        "id": "-ZLEciW0sCpF"
      },
      "id": "-ZLEciW0sCpF",
      "execution_count": null,
      "outputs": []
    },
    {
      "cell_type": "code",
      "source": [
        "trainer.save_model()"
      ],
      "metadata": {
        "id": "wfq_jY49b5jf"
      },
      "id": "wfq_jY49b5jf",
      "execution_count": null,
      "outputs": []
    },
    {
      "cell_type": "code",
      "source": [
        "from huggingface_hub import HfFolder, notebook_login\n",
        "notebook_login()"
      ],
      "metadata": {
        "colab": {
          "base_uri": "https://localhost:8080/",
          "height": 145,
          "referenced_widgets": [
            "db908435942347b8a2c3805085b2c240",
            "e6fcb0f7b6534cdab36034afdc62b515",
            "ac9f4cad131542e2b02fbd48ae49685d",
            "73fdfe068bec43ffbaa4a7bf67742b0b",
            "b8092f321d3045369d4608c149774bdc",
            "18d86308fa4045539dda048c82746031",
            "a9327cb9590a47249b3ba74f4cf2a1b2",
            "290334a058fa481c9f90d1bf0640158a",
            "e674fc1b3e584fbf8f414683c45f6856",
            "a368747e2c06499a86e2853a551cae4d",
            "a8f0954afd104bc8a196e902a61ff11c",
            "e0601846f7fc451abfde615f0f29bd6f",
            "0a3e3989c49e42788410aa7427dab259",
            "fa5f1758e5c1497fbad7427dab16a456",
            "7a7b3009fd5e4ecfa4f2b916936fbc80",
            "5b8f6e08f58f493e80e0ddcee30fbe9e",
            "3140c74570e1466eaa60a887c6617f3d",
            "200d981d66b548c789369c4519ab8e86",
            "c4a4728c02e14affbe947fe6dec2f80e",
            "39c175d9056a4c049d72df6e2d002d81",
            "ead4a048d60d476dbe988cc5b241a854",
            "40a759154a91453e95506d3fc70d1c95",
            "79db5df05487409b85d346da71009c6b",
            "807eae3e04a34bf39cf38e484cd2495a",
            "a36d97663f7741778c9dff2abd2cccca",
            "c54986f175a742ea9f902ce83e651321",
            "eeae90f443b14f76ac855bcd809cf416",
            "805752c662da4c4f93ae68ed1dee4a1b",
            "ae20cddee4394b40944d3fbef2af12be",
            "41526f6d83624afc8aaac66582a9bff0",
            "78271fcdc92043818f3f0431988554bf",
            "c1b95b698c7441eeaa2d43a84f507ee3"
          ]
        },
        "id": "i8u1Z-RfpSFu",
        "outputId": "db30c123-ddb7-436c-b841-d3ee8a47a60f"
      },
      "id": "i8u1Z-RfpSFu",
      "execution_count": null,
      "outputs": [
        {
          "output_type": "display_data",
          "data": {
            "text/plain": [
              "VBox(children=(HTML(value='<center> <img\\nsrc=https://huggingface.co/front/assets/huggingface_logo-noborder.sv…"
            ],
            "application/vnd.jupyter.widget-view+json": {
              "version_major": 2,
              "version_minor": 0,
              "model_id": "db908435942347b8a2c3805085b2c240"
            }
          },
          "metadata": {}
        }
      ]
    },
    {
      "cell_type": "code",
      "source": [
        "import locale\n",
        "locale.getpreferredencoding = lambda: \"UTF-8\""
      ],
      "metadata": {
        "id": "wFPBsI16wwCO"
      },
      "id": "wFPBsI16wwCO",
      "execution_count": null,
      "outputs": []
    },
    {
      "cell_type": "code",
      "source": [
        "!git lfs install\n",
        "\n",
        "!GIT_LFS_SKIP_SMUDGE=1\n",
        "\n",
        "!git clone https://huggingface.co/profoz/quick-start-llm-vqa\n",
        "\n",
        "!cp /content/vqa_custom/pytorch_model.bin /content/quick-start-llm-vqa/\n",
        "!cp /content/vqa_custom/training_args.bin /content/quick-start-llm-vqa/\n"
      ],
      "metadata": {
        "colab": {
          "base_uri": "https://localhost:8080/"
        },
        "id": "zIPLLkcwb6n0",
        "outputId": "134ca5ad-f7af-46c8-f084-8444bcca96d3"
      },
      "id": "zIPLLkcwb6n0",
      "execution_count": null,
      "outputs": [
        {
          "output_type": "stream",
          "name": "stdout",
          "text": [
            "Git LFS initialized.\n",
            "Cloning into 'quick-start-llm-vqa'...\n",
            "remote: Enumerating objects: 7, done.\u001b[K\n",
            "remote: Counting objects: 100% (4/4), done.\u001b[K\n",
            "remote: Compressing objects: 100% (4/4), done.\u001b[K\n",
            "remote: Total 7 (delta 0), reused 0 (delta 0), pack-reused 3\u001b[K\n",
            "Unpacking objects: 100% (7/7), 1.59 KiB | 813.00 KiB/s, done.\n"
          ]
        }
      ]
    },
    {
      "cell_type": "code",
      "source": [
        "%cd /content/quick-start-llm-vqa/\n",
        "!git config --global user.email \"sinan.u.ozdemir@gmail.com\"\n",
        "!git config --global user.name \"Sinan Ozdemir\"\n",
        "!git add .\n",
        "!git commit -m \"New VQA custom model\"\n",
        "!git push\n"
      ],
      "metadata": {
        "id": "4yvW7YpWgDzT",
        "colab": {
          "base_uri": "https://localhost:8080/"
        },
        "outputId": "1714a501-d3e3-4351-c627-bcacf3ed2241"
      },
      "id": "4yvW7YpWgDzT",
      "execution_count": null,
      "outputs": [
        {
          "output_type": "stream",
          "name": "stdout",
          "text": [
            "/content/quick-start-llm-vqa\n",
            "[main 3a998a8] New VQA custom model\n",
            " 2 files changed, 2 insertions(+), 2 deletions(-)\n",
            "Uploading LFS objects: 100% (2/2), 1.2 GB | 104 MB/s, done.\n",
            "Enumerating objects: 7, done.\n",
            "Counting objects: 100% (7/7), done.\n",
            "Delta compression using up to 12 threads\n",
            "Compressing objects: 100% (4/4), done.\n",
            "Writing objects: 100% (4/4), 576 bytes | 576.00 KiB/s, done.\n",
            "Total 4 (delta 0), reused 0 (delta 0), pack-reused 0\n",
            "To https://huggingface.co/profoz/quick-start-llm-vqa\n",
            "   bcbede8..3a998a8  main -> main\n"
          ]
        }
      ]
    },
    {
      "cell_type": "code",
      "source": [],
      "metadata": {
        "id": "GqMak6d2gITY"
      },
      "id": "GqMak6d2gITY",
      "execution_count": null,
      "outputs": []
    }
  ],
  "metadata": {
    "kernelspec": {
      "display_name": "Python 3",
      "name": "python3"
    },
    "language_info": {
      "codemirror_mode": {
        "name": "ipython",
        "version": 3
      },
      "file_extension": ".py",
      "mimetype": "text/x-python",
      "name": "python",
      "nbconvert_exporter": "python",
      "pygments_lexer": "ipython3",
      "version": "3.10.13"
    },
    "colab": {
      "provenance": [],
      "machine_shape": "hm",
      "gpuType": "A100"
    },
    "accelerator": "GPU",
    "widgets": {
      "application/vnd.jupyter.widget-state+json": {
        "db908435942347b8a2c3805085b2c240": {
          "model_module": "@jupyter-widgets/controls",
          "model_name": "VBoxModel",
          "model_module_version": "1.5.0",
          "state": {
            "_dom_classes": [],
            "_model_module": "@jupyter-widgets/controls",
            "_model_module_version": "1.5.0",
            "_model_name": "VBoxModel",
            "_view_count": null,
            "_view_module": "@jupyter-widgets/controls",
            "_view_module_version": "1.5.0",
            "_view_name": "VBoxView",
            "box_style": "",
            "children": [
              "IPY_MODEL_ead4a048d60d476dbe988cc5b241a854",
              "IPY_MODEL_40a759154a91453e95506d3fc70d1c95",
              "IPY_MODEL_79db5df05487409b85d346da71009c6b",
              "IPY_MODEL_807eae3e04a34bf39cf38e484cd2495a"
            ],
            "layout": "IPY_MODEL_a9327cb9590a47249b3ba74f4cf2a1b2"
          }
        },
        "e6fcb0f7b6534cdab36034afdc62b515": {
          "model_module": "@jupyter-widgets/controls",
          "model_name": "HTMLModel",
          "model_module_version": "1.5.0",
          "state": {
            "_dom_classes": [],
            "_model_module": "@jupyter-widgets/controls",
            "_model_module_version": "1.5.0",
            "_model_name": "HTMLModel",
            "_view_count": null,
            "_view_module": "@jupyter-widgets/controls",
            "_view_module_version": "1.5.0",
            "_view_name": "HTMLView",
            "description": "",
            "description_tooltip": null,
            "layout": "IPY_MODEL_290334a058fa481c9f90d1bf0640158a",
            "placeholder": "​",
            "style": "IPY_MODEL_e674fc1b3e584fbf8f414683c45f6856",
            "value": "<center> <img\nsrc=https://huggingface.co/front/assets/huggingface_logo-noborder.svg\nalt='Hugging Face'> <br> Copy a token from <a\nhref=\"https://huggingface.co/settings/tokens\" target=\"_blank\">your Hugging Face\ntokens page</a> and paste it below. <br> Immediately click login after copying\nyour token or it might be stored in plain text in this notebook file. </center>"
          }
        },
        "ac9f4cad131542e2b02fbd48ae49685d": {
          "model_module": "@jupyter-widgets/controls",
          "model_name": "PasswordModel",
          "model_module_version": "1.5.0",
          "state": {
            "_dom_classes": [],
            "_model_module": "@jupyter-widgets/controls",
            "_model_module_version": "1.5.0",
            "_model_name": "PasswordModel",
            "_view_count": null,
            "_view_module": "@jupyter-widgets/controls",
            "_view_module_version": "1.5.0",
            "_view_name": "PasswordView",
            "continuous_update": true,
            "description": "Token:",
            "description_tooltip": null,
            "disabled": false,
            "layout": "IPY_MODEL_a368747e2c06499a86e2853a551cae4d",
            "placeholder": "​",
            "style": "IPY_MODEL_a8f0954afd104bc8a196e902a61ff11c",
            "value": ""
          }
        },
        "73fdfe068bec43ffbaa4a7bf67742b0b": {
          "model_module": "@jupyter-widgets/controls",
          "model_name": "CheckboxModel",
          "model_module_version": "1.5.0",
          "state": {
            "_dom_classes": [],
            "_model_module": "@jupyter-widgets/controls",
            "_model_module_version": "1.5.0",
            "_model_name": "CheckboxModel",
            "_view_count": null,
            "_view_module": "@jupyter-widgets/controls",
            "_view_module_version": "1.5.0",
            "_view_name": "CheckboxView",
            "description": "Add token as git credential?",
            "description_tooltip": null,
            "disabled": false,
            "indent": true,
            "layout": "IPY_MODEL_e0601846f7fc451abfde615f0f29bd6f",
            "style": "IPY_MODEL_0a3e3989c49e42788410aa7427dab259",
            "value": true
          }
        },
        "b8092f321d3045369d4608c149774bdc": {
          "model_module": "@jupyter-widgets/controls",
          "model_name": "ButtonModel",
          "model_module_version": "1.5.0",
          "state": {
            "_dom_classes": [],
            "_model_module": "@jupyter-widgets/controls",
            "_model_module_version": "1.5.0",
            "_model_name": "ButtonModel",
            "_view_count": null,
            "_view_module": "@jupyter-widgets/controls",
            "_view_module_version": "1.5.0",
            "_view_name": "ButtonView",
            "button_style": "",
            "description": "Login",
            "disabled": false,
            "icon": "",
            "layout": "IPY_MODEL_fa5f1758e5c1497fbad7427dab16a456",
            "style": "IPY_MODEL_7a7b3009fd5e4ecfa4f2b916936fbc80",
            "tooltip": ""
          }
        },
        "18d86308fa4045539dda048c82746031": {
          "model_module": "@jupyter-widgets/controls",
          "model_name": "HTMLModel",
          "model_module_version": "1.5.0",
          "state": {
            "_dom_classes": [],
            "_model_module": "@jupyter-widgets/controls",
            "_model_module_version": "1.5.0",
            "_model_name": "HTMLModel",
            "_view_count": null,
            "_view_module": "@jupyter-widgets/controls",
            "_view_module_version": "1.5.0",
            "_view_name": "HTMLView",
            "description": "",
            "description_tooltip": null,
            "layout": "IPY_MODEL_5b8f6e08f58f493e80e0ddcee30fbe9e",
            "placeholder": "​",
            "style": "IPY_MODEL_3140c74570e1466eaa60a887c6617f3d",
            "value": "\n<b>Pro Tip:</b> If you don't already have one, you can create a dedicated\n'notebooks' token with 'write' access, that you can then easily reuse for all\nnotebooks. </center>"
          }
        },
        "a9327cb9590a47249b3ba74f4cf2a1b2": {
          "model_module": "@jupyter-widgets/base",
          "model_name": "LayoutModel",
          "model_module_version": "1.2.0",
          "state": {
            "_model_module": "@jupyter-widgets/base",
            "_model_module_version": "1.2.0",
            "_model_name": "LayoutModel",
            "_view_count": null,
            "_view_module": "@jupyter-widgets/base",
            "_view_module_version": "1.2.0",
            "_view_name": "LayoutView",
            "align_content": null,
            "align_items": "center",
            "align_self": null,
            "border": null,
            "bottom": null,
            "display": "flex",
            "flex": null,
            "flex_flow": "column",
            "grid_area": null,
            "grid_auto_columns": null,
            "grid_auto_flow": null,
            "grid_auto_rows": null,
            "grid_column": null,
            "grid_gap": null,
            "grid_row": null,
            "grid_template_areas": null,
            "grid_template_columns": null,
            "grid_template_rows": null,
            "height": null,
            "justify_content": null,
            "justify_items": null,
            "left": null,
            "margin": null,
            "max_height": null,
            "max_width": null,
            "min_height": null,
            "min_width": null,
            "object_fit": null,
            "object_position": null,
            "order": null,
            "overflow": null,
            "overflow_x": null,
            "overflow_y": null,
            "padding": null,
            "right": null,
            "top": null,
            "visibility": null,
            "width": "50%"
          }
        },
        "290334a058fa481c9f90d1bf0640158a": {
          "model_module": "@jupyter-widgets/base",
          "model_name": "LayoutModel",
          "model_module_version": "1.2.0",
          "state": {
            "_model_module": "@jupyter-widgets/base",
            "_model_module_version": "1.2.0",
            "_model_name": "LayoutModel",
            "_view_count": null,
            "_view_module": "@jupyter-widgets/base",
            "_view_module_version": "1.2.0",
            "_view_name": "LayoutView",
            "align_content": null,
            "align_items": null,
            "align_self": null,
            "border": null,
            "bottom": null,
            "display": null,
            "flex": null,
            "flex_flow": null,
            "grid_area": null,
            "grid_auto_columns": null,
            "grid_auto_flow": null,
            "grid_auto_rows": null,
            "grid_column": null,
            "grid_gap": null,
            "grid_row": null,
            "grid_template_areas": null,
            "grid_template_columns": null,
            "grid_template_rows": null,
            "height": null,
            "justify_content": null,
            "justify_items": null,
            "left": null,
            "margin": null,
            "max_height": null,
            "max_width": null,
            "min_height": null,
            "min_width": null,
            "object_fit": null,
            "object_position": null,
            "order": null,
            "overflow": null,
            "overflow_x": null,
            "overflow_y": null,
            "padding": null,
            "right": null,
            "top": null,
            "visibility": null,
            "width": null
          }
        },
        "e674fc1b3e584fbf8f414683c45f6856": {
          "model_module": "@jupyter-widgets/controls",
          "model_name": "DescriptionStyleModel",
          "model_module_version": "1.5.0",
          "state": {
            "_model_module": "@jupyter-widgets/controls",
            "_model_module_version": "1.5.0",
            "_model_name": "DescriptionStyleModel",
            "_view_count": null,
            "_view_module": "@jupyter-widgets/base",
            "_view_module_version": "1.2.0",
            "_view_name": "StyleView",
            "description_width": ""
          }
        },
        "a368747e2c06499a86e2853a551cae4d": {
          "model_module": "@jupyter-widgets/base",
          "model_name": "LayoutModel",
          "model_module_version": "1.2.0",
          "state": {
            "_model_module": "@jupyter-widgets/base",
            "_model_module_version": "1.2.0",
            "_model_name": "LayoutModel",
            "_view_count": null,
            "_view_module": "@jupyter-widgets/base",
            "_view_module_version": "1.2.0",
            "_view_name": "LayoutView",
            "align_content": null,
            "align_items": null,
            "align_self": null,
            "border": null,
            "bottom": null,
            "display": null,
            "flex": null,
            "flex_flow": null,
            "grid_area": null,
            "grid_auto_columns": null,
            "grid_auto_flow": null,
            "grid_auto_rows": null,
            "grid_column": null,
            "grid_gap": null,
            "grid_row": null,
            "grid_template_areas": null,
            "grid_template_columns": null,
            "grid_template_rows": null,
            "height": null,
            "justify_content": null,
            "justify_items": null,
            "left": null,
            "margin": null,
            "max_height": null,
            "max_width": null,
            "min_height": null,
            "min_width": null,
            "object_fit": null,
            "object_position": null,
            "order": null,
            "overflow": null,
            "overflow_x": null,
            "overflow_y": null,
            "padding": null,
            "right": null,
            "top": null,
            "visibility": null,
            "width": null
          }
        },
        "a8f0954afd104bc8a196e902a61ff11c": {
          "model_module": "@jupyter-widgets/controls",
          "model_name": "DescriptionStyleModel",
          "model_module_version": "1.5.0",
          "state": {
            "_model_module": "@jupyter-widgets/controls",
            "_model_module_version": "1.5.0",
            "_model_name": "DescriptionStyleModel",
            "_view_count": null,
            "_view_module": "@jupyter-widgets/base",
            "_view_module_version": "1.2.0",
            "_view_name": "StyleView",
            "description_width": ""
          }
        },
        "e0601846f7fc451abfde615f0f29bd6f": {
          "model_module": "@jupyter-widgets/base",
          "model_name": "LayoutModel",
          "model_module_version": "1.2.0",
          "state": {
            "_model_module": "@jupyter-widgets/base",
            "_model_module_version": "1.2.0",
            "_model_name": "LayoutModel",
            "_view_count": null,
            "_view_module": "@jupyter-widgets/base",
            "_view_module_version": "1.2.0",
            "_view_name": "LayoutView",
            "align_content": null,
            "align_items": null,
            "align_self": null,
            "border": null,
            "bottom": null,
            "display": null,
            "flex": null,
            "flex_flow": null,
            "grid_area": null,
            "grid_auto_columns": null,
            "grid_auto_flow": null,
            "grid_auto_rows": null,
            "grid_column": null,
            "grid_gap": null,
            "grid_row": null,
            "grid_template_areas": null,
            "grid_template_columns": null,
            "grid_template_rows": null,
            "height": null,
            "justify_content": null,
            "justify_items": null,
            "left": null,
            "margin": null,
            "max_height": null,
            "max_width": null,
            "min_height": null,
            "min_width": null,
            "object_fit": null,
            "object_position": null,
            "order": null,
            "overflow": null,
            "overflow_x": null,
            "overflow_y": null,
            "padding": null,
            "right": null,
            "top": null,
            "visibility": null,
            "width": null
          }
        },
        "0a3e3989c49e42788410aa7427dab259": {
          "model_module": "@jupyter-widgets/controls",
          "model_name": "DescriptionStyleModel",
          "model_module_version": "1.5.0",
          "state": {
            "_model_module": "@jupyter-widgets/controls",
            "_model_module_version": "1.5.0",
            "_model_name": "DescriptionStyleModel",
            "_view_count": null,
            "_view_module": "@jupyter-widgets/base",
            "_view_module_version": "1.2.0",
            "_view_name": "StyleView",
            "description_width": ""
          }
        },
        "fa5f1758e5c1497fbad7427dab16a456": {
          "model_module": "@jupyter-widgets/base",
          "model_name": "LayoutModel",
          "model_module_version": "1.2.0",
          "state": {
            "_model_module": "@jupyter-widgets/base",
            "_model_module_version": "1.2.0",
            "_model_name": "LayoutModel",
            "_view_count": null,
            "_view_module": "@jupyter-widgets/base",
            "_view_module_version": "1.2.0",
            "_view_name": "LayoutView",
            "align_content": null,
            "align_items": null,
            "align_self": null,
            "border": null,
            "bottom": null,
            "display": null,
            "flex": null,
            "flex_flow": null,
            "grid_area": null,
            "grid_auto_columns": null,
            "grid_auto_flow": null,
            "grid_auto_rows": null,
            "grid_column": null,
            "grid_gap": null,
            "grid_row": null,
            "grid_template_areas": null,
            "grid_template_columns": null,
            "grid_template_rows": null,
            "height": null,
            "justify_content": null,
            "justify_items": null,
            "left": null,
            "margin": null,
            "max_height": null,
            "max_width": null,
            "min_height": null,
            "min_width": null,
            "object_fit": null,
            "object_position": null,
            "order": null,
            "overflow": null,
            "overflow_x": null,
            "overflow_y": null,
            "padding": null,
            "right": null,
            "top": null,
            "visibility": null,
            "width": null
          }
        },
        "7a7b3009fd5e4ecfa4f2b916936fbc80": {
          "model_module": "@jupyter-widgets/controls",
          "model_name": "ButtonStyleModel",
          "model_module_version": "1.5.0",
          "state": {
            "_model_module": "@jupyter-widgets/controls",
            "_model_module_version": "1.5.0",
            "_model_name": "ButtonStyleModel",
            "_view_count": null,
            "_view_module": "@jupyter-widgets/base",
            "_view_module_version": "1.2.0",
            "_view_name": "StyleView",
            "button_color": null,
            "font_weight": ""
          }
        },
        "5b8f6e08f58f493e80e0ddcee30fbe9e": {
          "model_module": "@jupyter-widgets/base",
          "model_name": "LayoutModel",
          "model_module_version": "1.2.0",
          "state": {
            "_model_module": "@jupyter-widgets/base",
            "_model_module_version": "1.2.0",
            "_model_name": "LayoutModel",
            "_view_count": null,
            "_view_module": "@jupyter-widgets/base",
            "_view_module_version": "1.2.0",
            "_view_name": "LayoutView",
            "align_content": null,
            "align_items": null,
            "align_self": null,
            "border": null,
            "bottom": null,
            "display": null,
            "flex": null,
            "flex_flow": null,
            "grid_area": null,
            "grid_auto_columns": null,
            "grid_auto_flow": null,
            "grid_auto_rows": null,
            "grid_column": null,
            "grid_gap": null,
            "grid_row": null,
            "grid_template_areas": null,
            "grid_template_columns": null,
            "grid_template_rows": null,
            "height": null,
            "justify_content": null,
            "justify_items": null,
            "left": null,
            "margin": null,
            "max_height": null,
            "max_width": null,
            "min_height": null,
            "min_width": null,
            "object_fit": null,
            "object_position": null,
            "order": null,
            "overflow": null,
            "overflow_x": null,
            "overflow_y": null,
            "padding": null,
            "right": null,
            "top": null,
            "visibility": null,
            "width": null
          }
        },
        "3140c74570e1466eaa60a887c6617f3d": {
          "model_module": "@jupyter-widgets/controls",
          "model_name": "DescriptionStyleModel",
          "model_module_version": "1.5.0",
          "state": {
            "_model_module": "@jupyter-widgets/controls",
            "_model_module_version": "1.5.0",
            "_model_name": "DescriptionStyleModel",
            "_view_count": null,
            "_view_module": "@jupyter-widgets/base",
            "_view_module_version": "1.2.0",
            "_view_name": "StyleView",
            "description_width": ""
          }
        },
        "200d981d66b548c789369c4519ab8e86": {
          "model_module": "@jupyter-widgets/controls",
          "model_name": "LabelModel",
          "model_module_version": "1.5.0",
          "state": {
            "_dom_classes": [],
            "_model_module": "@jupyter-widgets/controls",
            "_model_module_version": "1.5.0",
            "_model_name": "LabelModel",
            "_view_count": null,
            "_view_module": "@jupyter-widgets/controls",
            "_view_module_version": "1.5.0",
            "_view_name": "LabelView",
            "description": "",
            "description_tooltip": null,
            "layout": "IPY_MODEL_c4a4728c02e14affbe947fe6dec2f80e",
            "placeholder": "​",
            "style": "IPY_MODEL_39c175d9056a4c049d72df6e2d002d81",
            "value": "Connecting..."
          }
        },
        "c4a4728c02e14affbe947fe6dec2f80e": {
          "model_module": "@jupyter-widgets/base",
          "model_name": "LayoutModel",
          "model_module_version": "1.2.0",
          "state": {
            "_model_module": "@jupyter-widgets/base",
            "_model_module_version": "1.2.0",
            "_model_name": "LayoutModel",
            "_view_count": null,
            "_view_module": "@jupyter-widgets/base",
            "_view_module_version": "1.2.0",
            "_view_name": "LayoutView",
            "align_content": null,
            "align_items": null,
            "align_self": null,
            "border": null,
            "bottom": null,
            "display": null,
            "flex": null,
            "flex_flow": null,
            "grid_area": null,
            "grid_auto_columns": null,
            "grid_auto_flow": null,
            "grid_auto_rows": null,
            "grid_column": null,
            "grid_gap": null,
            "grid_row": null,
            "grid_template_areas": null,
            "grid_template_columns": null,
            "grid_template_rows": null,
            "height": null,
            "justify_content": null,
            "justify_items": null,
            "left": null,
            "margin": null,
            "max_height": null,
            "max_width": null,
            "min_height": null,
            "min_width": null,
            "object_fit": null,
            "object_position": null,
            "order": null,
            "overflow": null,
            "overflow_x": null,
            "overflow_y": null,
            "padding": null,
            "right": null,
            "top": null,
            "visibility": null,
            "width": null
          }
        },
        "39c175d9056a4c049d72df6e2d002d81": {
          "model_module": "@jupyter-widgets/controls",
          "model_name": "DescriptionStyleModel",
          "model_module_version": "1.5.0",
          "state": {
            "_model_module": "@jupyter-widgets/controls",
            "_model_module_version": "1.5.0",
            "_model_name": "DescriptionStyleModel",
            "_view_count": null,
            "_view_module": "@jupyter-widgets/base",
            "_view_module_version": "1.2.0",
            "_view_name": "StyleView",
            "description_width": ""
          }
        },
        "ead4a048d60d476dbe988cc5b241a854": {
          "model_module": "@jupyter-widgets/controls",
          "model_name": "LabelModel",
          "model_module_version": "1.5.0",
          "state": {
            "_dom_classes": [],
            "_model_module": "@jupyter-widgets/controls",
            "_model_module_version": "1.5.0",
            "_model_name": "LabelModel",
            "_view_count": null,
            "_view_module": "@jupyter-widgets/controls",
            "_view_module_version": "1.5.0",
            "_view_name": "LabelView",
            "description": "",
            "description_tooltip": null,
            "layout": "IPY_MODEL_a36d97663f7741778c9dff2abd2cccca",
            "placeholder": "​",
            "style": "IPY_MODEL_c54986f175a742ea9f902ce83e651321",
            "value": "Token is valid (permission: write)."
          }
        },
        "40a759154a91453e95506d3fc70d1c95": {
          "model_module": "@jupyter-widgets/controls",
          "model_name": "LabelModel",
          "model_module_version": "1.5.0",
          "state": {
            "_dom_classes": [],
            "_model_module": "@jupyter-widgets/controls",
            "_model_module_version": "1.5.0",
            "_model_name": "LabelModel",
            "_view_count": null,
            "_view_module": "@jupyter-widgets/controls",
            "_view_module_version": "1.5.0",
            "_view_name": "LabelView",
            "description": "",
            "description_tooltip": null,
            "layout": "IPY_MODEL_eeae90f443b14f76ac855bcd809cf416",
            "placeholder": "​",
            "style": "IPY_MODEL_805752c662da4c4f93ae68ed1dee4a1b",
            "value": "Your token has been saved in your configured git credential helpers (store)."
          }
        },
        "79db5df05487409b85d346da71009c6b": {
          "model_module": "@jupyter-widgets/controls",
          "model_name": "LabelModel",
          "model_module_version": "1.5.0",
          "state": {
            "_dom_classes": [],
            "_model_module": "@jupyter-widgets/controls",
            "_model_module_version": "1.5.0",
            "_model_name": "LabelModel",
            "_view_count": null,
            "_view_module": "@jupyter-widgets/controls",
            "_view_module_version": "1.5.0",
            "_view_name": "LabelView",
            "description": "",
            "description_tooltip": null,
            "layout": "IPY_MODEL_ae20cddee4394b40944d3fbef2af12be",
            "placeholder": "​",
            "style": "IPY_MODEL_41526f6d83624afc8aaac66582a9bff0",
            "value": "Your token has been saved to /root/.cache/huggingface/token"
          }
        },
        "807eae3e04a34bf39cf38e484cd2495a": {
          "model_module": "@jupyter-widgets/controls",
          "model_name": "LabelModel",
          "model_module_version": "1.5.0",
          "state": {
            "_dom_classes": [],
            "_model_module": "@jupyter-widgets/controls",
            "_model_module_version": "1.5.0",
            "_model_name": "LabelModel",
            "_view_count": null,
            "_view_module": "@jupyter-widgets/controls",
            "_view_module_version": "1.5.0",
            "_view_name": "LabelView",
            "description": "",
            "description_tooltip": null,
            "layout": "IPY_MODEL_78271fcdc92043818f3f0431988554bf",
            "placeholder": "​",
            "style": "IPY_MODEL_c1b95b698c7441eeaa2d43a84f507ee3",
            "value": "Login successful"
          }
        },
        "a36d97663f7741778c9dff2abd2cccca": {
          "model_module": "@jupyter-widgets/base",
          "model_name": "LayoutModel",
          "model_module_version": "1.2.0",
          "state": {
            "_model_module": "@jupyter-widgets/base",
            "_model_module_version": "1.2.0",
            "_model_name": "LayoutModel",
            "_view_count": null,
            "_view_module": "@jupyter-widgets/base",
            "_view_module_version": "1.2.0",
            "_view_name": "LayoutView",
            "align_content": null,
            "align_items": null,
            "align_self": null,
            "border": null,
            "bottom": null,
            "display": null,
            "flex": null,
            "flex_flow": null,
            "grid_area": null,
            "grid_auto_columns": null,
            "grid_auto_flow": null,
            "grid_auto_rows": null,
            "grid_column": null,
            "grid_gap": null,
            "grid_row": null,
            "grid_template_areas": null,
            "grid_template_columns": null,
            "grid_template_rows": null,
            "height": null,
            "justify_content": null,
            "justify_items": null,
            "left": null,
            "margin": null,
            "max_height": null,
            "max_width": null,
            "min_height": null,
            "min_width": null,
            "object_fit": null,
            "object_position": null,
            "order": null,
            "overflow": null,
            "overflow_x": null,
            "overflow_y": null,
            "padding": null,
            "right": null,
            "top": null,
            "visibility": null,
            "width": null
          }
        },
        "c54986f175a742ea9f902ce83e651321": {
          "model_module": "@jupyter-widgets/controls",
          "model_name": "DescriptionStyleModel",
          "model_module_version": "1.5.0",
          "state": {
            "_model_module": "@jupyter-widgets/controls",
            "_model_module_version": "1.5.0",
            "_model_name": "DescriptionStyleModel",
            "_view_count": null,
            "_view_module": "@jupyter-widgets/base",
            "_view_module_version": "1.2.0",
            "_view_name": "StyleView",
            "description_width": ""
          }
        },
        "eeae90f443b14f76ac855bcd809cf416": {
          "model_module": "@jupyter-widgets/base",
          "model_name": "LayoutModel",
          "model_module_version": "1.2.0",
          "state": {
            "_model_module": "@jupyter-widgets/base",
            "_model_module_version": "1.2.0",
            "_model_name": "LayoutModel",
            "_view_count": null,
            "_view_module": "@jupyter-widgets/base",
            "_view_module_version": "1.2.0",
            "_view_name": "LayoutView",
            "align_content": null,
            "align_items": null,
            "align_self": null,
            "border": null,
            "bottom": null,
            "display": null,
            "flex": null,
            "flex_flow": null,
            "grid_area": null,
            "grid_auto_columns": null,
            "grid_auto_flow": null,
            "grid_auto_rows": null,
            "grid_column": null,
            "grid_gap": null,
            "grid_row": null,
            "grid_template_areas": null,
            "grid_template_columns": null,
            "grid_template_rows": null,
            "height": null,
            "justify_content": null,
            "justify_items": null,
            "left": null,
            "margin": null,
            "max_height": null,
            "max_width": null,
            "min_height": null,
            "min_width": null,
            "object_fit": null,
            "object_position": null,
            "order": null,
            "overflow": null,
            "overflow_x": null,
            "overflow_y": null,
            "padding": null,
            "right": null,
            "top": null,
            "visibility": null,
            "width": null
          }
        },
        "805752c662da4c4f93ae68ed1dee4a1b": {
          "model_module": "@jupyter-widgets/controls",
          "model_name": "DescriptionStyleModel",
          "model_module_version": "1.5.0",
          "state": {
            "_model_module": "@jupyter-widgets/controls",
            "_model_module_version": "1.5.0",
            "_model_name": "DescriptionStyleModel",
            "_view_count": null,
            "_view_module": "@jupyter-widgets/base",
            "_view_module_version": "1.2.0",
            "_view_name": "StyleView",
            "description_width": ""
          }
        },
        "ae20cddee4394b40944d3fbef2af12be": {
          "model_module": "@jupyter-widgets/base",
          "model_name": "LayoutModel",
          "model_module_version": "1.2.0",
          "state": {
            "_model_module": "@jupyter-widgets/base",
            "_model_module_version": "1.2.0",
            "_model_name": "LayoutModel",
            "_view_count": null,
            "_view_module": "@jupyter-widgets/base",
            "_view_module_version": "1.2.0",
            "_view_name": "LayoutView",
            "align_content": null,
            "align_items": null,
            "align_self": null,
            "border": null,
            "bottom": null,
            "display": null,
            "flex": null,
            "flex_flow": null,
            "grid_area": null,
            "grid_auto_columns": null,
            "grid_auto_flow": null,
            "grid_auto_rows": null,
            "grid_column": null,
            "grid_gap": null,
            "grid_row": null,
            "grid_template_areas": null,
            "grid_template_columns": null,
            "grid_template_rows": null,
            "height": null,
            "justify_content": null,
            "justify_items": null,
            "left": null,
            "margin": null,
            "max_height": null,
            "max_width": null,
            "min_height": null,
            "min_width": null,
            "object_fit": null,
            "object_position": null,
            "order": null,
            "overflow": null,
            "overflow_x": null,
            "overflow_y": null,
            "padding": null,
            "right": null,
            "top": null,
            "visibility": null,
            "width": null
          }
        },
        "41526f6d83624afc8aaac66582a9bff0": {
          "model_module": "@jupyter-widgets/controls",
          "model_name": "DescriptionStyleModel",
          "model_module_version": "1.5.0",
          "state": {
            "_model_module": "@jupyter-widgets/controls",
            "_model_module_version": "1.5.0",
            "_model_name": "DescriptionStyleModel",
            "_view_count": null,
            "_view_module": "@jupyter-widgets/base",
            "_view_module_version": "1.2.0",
            "_view_name": "StyleView",
            "description_width": ""
          }
        },
        "78271fcdc92043818f3f0431988554bf": {
          "model_module": "@jupyter-widgets/base",
          "model_name": "LayoutModel",
          "model_module_version": "1.2.0",
          "state": {
            "_model_module": "@jupyter-widgets/base",
            "_model_module_version": "1.2.0",
            "_model_name": "LayoutModel",
            "_view_count": null,
            "_view_module": "@jupyter-widgets/base",
            "_view_module_version": "1.2.0",
            "_view_name": "LayoutView",
            "align_content": null,
            "align_items": null,
            "align_self": null,
            "border": null,
            "bottom": null,
            "display": null,
            "flex": null,
            "flex_flow": null,
            "grid_area": null,
            "grid_auto_columns": null,
            "grid_auto_flow": null,
            "grid_auto_rows": null,
            "grid_column": null,
            "grid_gap": null,
            "grid_row": null,
            "grid_template_areas": null,
            "grid_template_columns": null,
            "grid_template_rows": null,
            "height": null,
            "justify_content": null,
            "justify_items": null,
            "left": null,
            "margin": null,
            "max_height": null,
            "max_width": null,
            "min_height": null,
            "min_width": null,
            "object_fit": null,
            "object_position": null,
            "order": null,
            "overflow": null,
            "overflow_x": null,
            "overflow_y": null,
            "padding": null,
            "right": null,
            "top": null,
            "visibility": null,
            "width": null
          }
        },
        "c1b95b698c7441eeaa2d43a84f507ee3": {
          "model_module": "@jupyter-widgets/controls",
          "model_name": "DescriptionStyleModel",
          "model_module_version": "1.5.0",
          "state": {
            "_model_module": "@jupyter-widgets/controls",
            "_model_module_version": "1.5.0",
            "_model_name": "DescriptionStyleModel",
            "_view_count": null,
            "_view_module": "@jupyter-widgets/base",
            "_view_module_version": "1.2.0",
            "_view_name": "StyleView",
            "description_width": ""
          }
        }
      }
    }
  },
  "nbformat": 4,
  "nbformat_minor": 5
}