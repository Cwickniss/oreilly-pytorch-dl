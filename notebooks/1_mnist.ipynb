{
 "cells": [
  {
   "cell_type": "code",
   "execution_count": 107,
   "id": "bdfba6c5",
   "metadata": {},
   "outputs": [],
   "source": [
    "# Import required libraries\n",
    "import torch\n",
    "import torch.nn as nn\n",
    "import matplotlib.pyplot as plt\n",
    "import torch.nn.functional as F\n",
    "\n",
    "import torchvision\n",
    "import numpy as np\n",
    "import torchvision.transforms as transforms\n",
    "from sklearn.metrics import accuracy_score, f1_score, precision_score, recall_score\n"
   ]
  },
  {
   "cell_type": "code",
   "execution_count": 108,
   "id": "deb4a334",
   "metadata": {},
   "outputs": [
    {
     "data": {
      "text/plain": [
       "<torch._C.Generator at 0x112c28e10>"
      ]
     },
     "execution_count": 108,
     "metadata": {},
     "output_type": "execute_result"
    }
   ],
   "source": [
    "# standardize random numbers for reproducibility\n",
    "torch.manual_seed(0)\n"
   ]
  },
  {
   "cell_type": "code",
   "execution_count": 109,
   "id": "5f54d472",
   "metadata": {},
   "outputs": [],
   "source": [
    "# input layer, a single hidden layer, and an output layer\n",
    "# Define hyperparameters\n",
    "input_size = 784  # 28x28 pixels\n",
    "hidden_size = 128\n",
    "num_classes = 10\n",
    "\n",
    "batch_size = 100"
   ]
  },
  {
   "cell_type": "code",
   "execution_count": 110,
   "id": "cf93c989",
   "metadata": {},
   "outputs": [],
   "source": [
    "img = torchvision.datasets.MNIST(root='../data', train=True, download=True)[0]"
   ]
  },
  {
   "cell_type": "code",
   "execution_count": null,
   "id": "e1e0d7a5-81ec-46fb-ae90-e9084b6e2c20",
   "metadata": {},
   "outputs": [],
   "source": []
  },
  {
   "cell_type": "code",
   "execution_count": 111,
   "id": "0de01bf4",
   "metadata": {},
   "outputs": [],
   "source": [
    "# Load MNIST dataset\n",
    "transform = transforms.Compose(\n",
    "    [\n",
    "     transforms.ToTensor(),   # convert to pytorch tensor\n",
    "     transforms.Normalize((0.1307,), (0.3081,))  # standardize the values with mean + std. Found before running code\n",
    "    ]  \n",
    ")\n",
    "\n",
    "\n",
    "train_dataset = torchvision.datasets.MNIST(root='../data', train=True, transform=transform, download=True)\n",
    "test_dataset = torchvision.datasets.MNIST(root='../data', train=False, transform=transform, download=True)\n",
    "\n",
    "train_loader = torch.utils.data.DataLoader(dataset=train_dataset, batch_size=batch_size, shuffle=True)\n",
    "test_loader = torch.utils.data.DataLoader(dataset=test_dataset, batch_size=batch_size, shuffle=False)\n"
   ]
  },
  {
   "cell_type": "code",
   "execution_count": 112,
   "id": "fc713e63-5149-4501-b718-1c31a8adeff8",
   "metadata": {},
   "outputs": [
    {
     "data": {
      "text/plain": [
       "tensor(0.0227)"
      ]
     },
     "execution_count": 112,
     "metadata": {},
     "output_type": "execute_result"
    }
   ],
   "source": [
    "array.mean()"
   ]
  },
  {
   "cell_type": "code",
   "execution_count": 113,
   "id": "e926a88c",
   "metadata": {},
   "outputs": [
    {
     "data": {
      "image/png": "[encoded data removed]",
      "text/plain": [
       "<Figure size 640x480 with 1 Axes>"
      ]
     },
     "metadata": {},
     "output_type": "display_data"
    }
   ],
   "source": [
    "# transpose the array to (28, 28) format expected by Matplotlib\n",
    "array = np.squeeze(np.transpose(train_dataset[0][0], (1, 2, 0)))\n",
    "\n",
    "# plot the image using Matplotlib\n",
    "plt.imshow(array)\n",
    "plt.show()\n",
    "\n"
   ]
  },
  {
   "cell_type": "code",
   "execution_count": 114,
   "id": "42f64815",
   "metadata": {},
   "outputs": [
    {
     "data": {
      "text/plain": [
       "torch.Size([100, 1, 28, 28])"
      ]
     },
     "execution_count": 114,
     "metadata": {},
     "output_type": "execute_result"
    }
   ],
   "source": [
    "next(iter(test_loader))[0].shape"
   ]
  },
  {
   "cell_type": "code",
   "execution_count": 115,
   "id": "9ef55b65",
   "metadata": {},
   "outputs": [],
   "source": [
    "# Define the neural network model\n",
    "class NeuralNet(nn.Module):\n",
    "    def __init__(self, input_size, hidden_size, num_classes):\n",
    "        super(NeuralNet, self).__init__()\n",
    "        self.fc1 = nn.Linear(input_size, hidden_size) \n",
    "        self.relu = nn.ReLU()\n",
    "        self.fc2 = nn.Linear(hidden_size, num_classes)  \n",
    "    \n",
    "    def forward(self, x):\n",
    "        out = self.fc1(x)\n",
    "        out = self.relu(out)\n",
    "        out = self.fc2(out)\n",
    "        return out\n",
    "\n",
    "# Create the model\n",
    "model = NeuralNet(input_size, hidden_size, num_classes)"
   ]
  },
  {
   "cell_type": "code",
   "execution_count": 116,
   "id": "fca379b3",
   "metadata": {},
   "outputs": [],
   "source": [
    "# Some loss function options\n",
    "cross_entropy_loss = nn.CrossEntropyLoss()\n",
    "nll_loss = nn.NLLLoss()\n",
    "mse_loss = nn.MSELoss()\n",
    "\n",
    "optimizer = torch.optim.Adam(model.parameters(), lr=0.001)\n"
   ]
  },
  {
   "cell_type": "code",
   "execution_count": 117,
   "id": "c8df8e47",
   "metadata": {},
   "outputs": [
    {
     "data": {
      "text/plain": [
       "784"
      ]
     },
     "execution_count": 117,
     "metadata": {},
     "output_type": "execute_result"
    }
   ],
   "source": [
    "input_size"
   ]
  },
  {
   "cell_type": "code",
   "execution_count": 118,
   "id": "502faaf8",
   "metadata": {},
   "outputs": [],
   "source": [
    "# Function to train the model\n",
    "def train_model(model, loss_function, train_loader, optimizer, num_epochs=10):\n",
    "    # Put the model in training mode\n",
    "    model.train()\n",
    "    \n",
    "    # Iterate over the number of epochs\n",
    "    for epoch in range(num_epochs):\n",
    "        # Initialize the running loss for this epoch to zero\n",
    "        running_loss = 0.0\n",
    "        \n",
    "        # Iterate over each batch in the training loader\n",
    "        for i, (images, labels) in enumerate(train_loader):\n",
    "            \n",
    "            # Reshape the images tensor to have size (batch_size, input_size)\n",
    "            images = images.reshape(-1, input_size)\n",
    "            # Forward pass: compute the outputs of the model given the input images\n",
    "            outputs = model(images)\n",
    "            # Compute the loss between the outputs and the true labels\n",
    "            loss = loss_function(outputs, labels)\n",
    "            # Backward pass: compute the gradients of the loss with respect to the model parameters\n",
    "            optimizer.zero_grad()\n",
    "            loss.backward()\n",
    "            # Update the model parameters using the optimizer\n",
    "            optimizer.step()\n",
    "            \n",
    "            # Add the current batch loss to the running loss for this epoch\n",
    "            running_loss += loss.item()\n",
    "\n",
    "        # Compute the average loss over all batches for this epoch and print it\n",
    "        print(f'Epoch [{epoch+1}/{num_epochs}], Loss: {running_loss/len(train_loader):.4f}')\n"
   ]
  },
  {
   "cell_type": "code",
   "execution_count": 119,
   "id": "410c88bf",
   "metadata": {},
   "outputs": [],
   "source": [
    "# Function to evaluate the model\n",
    "def evaluate_model(model, test_loader):\n",
    "    # Put the model in evaluation mode\n",
    "    model.eval()\n",
    "    \n",
    "    # Initialize empty lists to store true and predicted labels\n",
    "    y_true, y_pred = [], []\n",
    "    \n",
    "    # Disable gradient computation since we're only evaluating the model\n",
    "    with torch.no_grad():\n",
    "        # Iterate over each batch in the test loader\n",
    "        for images, labels in test_loader:\n",
    "            # Reshape the images tensor to have size (batch_size, input_size)\n",
    "            images = images.reshape(-1, input_size)\n",
    "            \n",
    "            # Forward pass: compute the outputs of the model given the input images\n",
    "            outputs = model(images)\n",
    "            \n",
    "            # Find the predicted class for each image in the batch\n",
    "            _, predicted = torch.max(outputs.data, 1)\n",
    "            \n",
    "            # Append the true and predicted labels for this batch to the lists\n",
    "            y_true.extend(labels.numpy())\n",
    "            y_pred.extend(predicted.numpy())\n",
    "    \n",
    "    # Calculate evaluation metrics using the true and predicted labels\n",
    "    accuracy, f1, precision, recall = evaluate_model_metrics(np.array(y_true), np.array(y_pred))\n",
    "    \n",
    "    # Return the evaluation metrics\n",
    "    return accuracy, f1, precision, recall\n",
    "\n",
    "# Function to calculate evaluation metrics\n",
    "def evaluate_model_metrics(y_true, y_pred):\n",
    "    # Compute the accuracy, F1 score, precision, and recall\n",
    "    accuracy = accuracy_score(y_true, y_pred)\n",
    "    f1 = f1_score(y_true, y_pred, average='macro')\n",
    "    precision = precision_score(y_true, y_pred, average='macro')\n",
    "    recall = recall_score(y_true, y_pred, average='macro')\n",
    "\n",
    "    # Return the evaluation metrics\n",
    "    return accuracy, f1, precision, recall\n",
    "\n",
    "# Define a dictionary of loss functions\n",
    "loss_functions = {\n",
    "    'CrossEntropyLoss': nn.CrossEntropyLoss(),\n",
    "    'NLLLoss': nn.NLLLoss(),  # requires logsoftmax output (according to docs, so loss will be wrong without it!)\n",
    "    'MultiMarginLoss': nn.MultiMarginLoss(),\n",
    "    'KLDivLoss': nn.KLDivLoss()   # requires logsoftmax output (according to docs, so loss will be wrong without it!)\n",
    "}"
   ]
  },
  {
   "cell_type": "code",
   "execution_count": 120,
   "id": "156ac9db",
   "metadata": {},
   "outputs": [
    {
     "name": "stdout",
     "output_type": "stream",
     "text": [
      "Training with CrossEntropyLoss:\n",
      "Epoch [1/5], Loss: 0.2866\n",
      "Epoch [2/5], Loss: 0.1269\n",
      "Epoch [3/5], Loss: 0.0869\n",
      "Epoch [4/5], Loss: 0.0659\n",
      "Epoch [5/5], Loss: 0.0511\n",
      "Performance metrics for CrossEntropyLoss:\n",
      "Accuracy: 0.9754, F1-score: 0.9753, Precision: 0.9756, Recall: 0.9752\n",
      "\n",
      "Training with NLLLoss:\n",
      "Epoch [1/5], Loss: -11701.7066\n",
      "Epoch [2/5], Loss: -83472.9563\n",
      "Epoch [3/5], Loss: -217246.9347\n",
      "Epoch [4/5], Loss: -402067.4273\n",
      "Epoch [5/5], Loss: -631296.8376\n"
     ]
    },
    {
     "name": "stderr",
     "output_type": "stream",
     "text": [
      "/opt/homebrew/lib/python3.11/site-packages/sklearn/metrics/_classification.py:1469: UndefinedMetricWarning: Precision is ill-defined and being set to 0.0 in labels with no predicted samples. Use `zero_division` parameter to control this behavior.\n",
      "  _warn_prf(average, modifier, msg_start, len(result))\n"
     ]
    },
    {
     "name": "stdout",
     "output_type": "stream",
     "text": [
      "Performance metrics for NLLLoss:\n",
      "Accuracy: 0.1135, F1-score: 0.0204, Precision: 0.0114, Recall: 0.1000\n",
      "\n",
      "Training with MultiMarginLoss:\n",
      "Epoch [1/5], Loss: 0.0423\n",
      "Epoch [2/5], Loss: 0.0156\n",
      "Epoch [3/5], Loss: 0.0104\n",
      "Epoch [4/5], Loss: 0.0079\n",
      "Epoch [5/5], Loss: 0.0064\n",
      "Performance metrics for MultiMarginLoss:\n",
      "Accuracy: 0.9716, F1-score: 0.9714, Precision: 0.9722, Recall: 0.9710\n",
      "\n",
      "Training with KLDivLoss:\n"
     ]
    },
    {
     "name": "stderr",
     "output_type": "stream",
     "text": [
      "/opt/homebrew/lib/python3.11/site-packages/torch/nn/functional.py:2919: UserWarning: reduction: 'mean' divides the total loss by both the batch size and the support size.'batchmean' divides only by the batch size, and aligns with the KL div math definition.'mean' will be changed to behave the same as 'batchmean' in the next major release.\n",
      "  warnings.warn(\n"
     ]
    },
    {
     "ename": "RuntimeError",
     "evalue": "kl_div: Integral inputs not supported.",
     "output_type": "error",
     "traceback": [
      "\u001b[0;31m---------------------------------------------------------------------------\u001b[0m",
      "\u001b[0;31mRuntimeError\u001b[0m                              Traceback (most recent call last)",
      "Cell \u001b[0;32mIn[120], line 10\u001b[0m\n\u001b[1;32m      7\u001b[0m optimizer \u001b[38;5;241m=\u001b[39m torch\u001b[38;5;241m.\u001b[39moptim\u001b[38;5;241m.\u001b[39mAdam(model\u001b[38;5;241m.\u001b[39mparameters(), lr\u001b[38;5;241m=\u001b[39m\u001b[38;5;241m0.001\u001b[39m)\n\u001b[1;32m      9\u001b[0m \u001b[38;5;66;03m# Train the model\u001b[39;00m\n\u001b[0;32m---> 10\u001b[0m \u001b[43mtrain_model\u001b[49m\u001b[43m(\u001b[49m\u001b[43mmodel\u001b[49m\u001b[43m,\u001b[49m\u001b[43m \u001b[49m\u001b[43mloss_function\u001b[49m\u001b[43m,\u001b[49m\u001b[43m \u001b[49m\u001b[43mtrain_loader\u001b[49m\u001b[43m,\u001b[49m\u001b[43m \u001b[49m\u001b[43moptimizer\u001b[49m\u001b[43m,\u001b[49m\u001b[43m \u001b[49m\u001b[43mnum_epochs\u001b[49m\u001b[38;5;241;43m=\u001b[39;49m\u001b[38;5;241;43m5\u001b[39;49m\u001b[43m)\u001b[49m\n\u001b[1;32m     12\u001b[0m \u001b[38;5;66;03m# Evaluate the model\u001b[39;00m\n\u001b[1;32m     13\u001b[0m accuracy, f1, precision, recall \u001b[38;5;241m=\u001b[39m evaluate_model(model, test_loader)\n",
      "Cell \u001b[0;32mIn[118], line 19\u001b[0m, in \u001b[0;36mtrain_model\u001b[0;34m(model, loss_function, train_loader, optimizer, num_epochs)\u001b[0m\n\u001b[1;32m     17\u001b[0m outputs \u001b[38;5;241m=\u001b[39m model(images)\n\u001b[1;32m     18\u001b[0m \u001b[38;5;66;03m# Compute the loss between the outputs and the true labels\u001b[39;00m\n\u001b[0;32m---> 19\u001b[0m loss \u001b[38;5;241m=\u001b[39m \u001b[43mloss_function\u001b[49m\u001b[43m(\u001b[49m\u001b[43moutputs\u001b[49m\u001b[43m,\u001b[49m\u001b[43m \u001b[49m\u001b[43mlabels\u001b[49m\u001b[43m)\u001b[49m\n\u001b[1;32m     20\u001b[0m \u001b[38;5;66;03m# Backward pass: compute the gradients of the loss with respect to the model parameters\u001b[39;00m\n\u001b[1;32m     21\u001b[0m optimizer\u001b[38;5;241m.\u001b[39mzero_grad()\n",
      "File \u001b[0;32m/opt/homebrew/lib/python3.11/site-packages/torch/nn/modules/module.py:1501\u001b[0m, in \u001b[0;36mModule._call_impl\u001b[0;34m(self, *args, **kwargs)\u001b[0m\n\u001b[1;32m   1496\u001b[0m \u001b[38;5;66;03m# If we don't have any hooks, we want to skip the rest of the logic in\u001b[39;00m\n\u001b[1;32m   1497\u001b[0m \u001b[38;5;66;03m# this function, and just call forward.\u001b[39;00m\n\u001b[1;32m   1498\u001b[0m \u001b[38;5;28;01mif\u001b[39;00m \u001b[38;5;129;01mnot\u001b[39;00m (\u001b[38;5;28mself\u001b[39m\u001b[38;5;241m.\u001b[39m_backward_hooks \u001b[38;5;129;01mor\u001b[39;00m \u001b[38;5;28mself\u001b[39m\u001b[38;5;241m.\u001b[39m_backward_pre_hooks \u001b[38;5;129;01mor\u001b[39;00m \u001b[38;5;28mself\u001b[39m\u001b[38;5;241m.\u001b[39m_forward_hooks \u001b[38;5;129;01mor\u001b[39;00m \u001b[38;5;28mself\u001b[39m\u001b[38;5;241m.\u001b[39m_forward_pre_hooks\n\u001b[1;32m   1499\u001b[0m         \u001b[38;5;129;01mor\u001b[39;00m _global_backward_pre_hooks \u001b[38;5;129;01mor\u001b[39;00m _global_backward_hooks\n\u001b[1;32m   1500\u001b[0m         \u001b[38;5;129;01mor\u001b[39;00m _global_forward_hooks \u001b[38;5;129;01mor\u001b[39;00m _global_forward_pre_hooks):\n\u001b[0;32m-> 1501\u001b[0m     \u001b[38;5;28;01mreturn\u001b[39;00m \u001b[43mforward_call\u001b[49m\u001b[43m(\u001b[49m\u001b[38;5;241;43m*\u001b[39;49m\u001b[43margs\u001b[49m\u001b[43m,\u001b[49m\u001b[43m \u001b[49m\u001b[38;5;241;43m*\u001b[39;49m\u001b[38;5;241;43m*\u001b[39;49m\u001b[43mkwargs\u001b[49m\u001b[43m)\u001b[49m\n\u001b[1;32m   1502\u001b[0m \u001b[38;5;66;03m# Do not call functions when jit is used\u001b[39;00m\n\u001b[1;32m   1503\u001b[0m full_backward_hooks, non_full_backward_hooks \u001b[38;5;241m=\u001b[39m [], []\n",
      "File \u001b[0;32m/opt/homebrew/lib/python3.11/site-packages/torch/nn/modules/loss.py:471\u001b[0m, in \u001b[0;36mKLDivLoss.forward\u001b[0;34m(self, input, target)\u001b[0m\n\u001b[1;32m    470\u001b[0m \u001b[38;5;28;01mdef\u001b[39;00m \u001b[38;5;21mforward\u001b[39m(\u001b[38;5;28mself\u001b[39m, \u001b[38;5;28minput\u001b[39m: Tensor, target: Tensor) \u001b[38;5;241m-\u001b[39m\u001b[38;5;241m>\u001b[39m Tensor:\n\u001b[0;32m--> 471\u001b[0m     \u001b[38;5;28;01mreturn\u001b[39;00m \u001b[43mF\u001b[49m\u001b[38;5;241;43m.\u001b[39;49m\u001b[43mkl_div\u001b[49m\u001b[43m(\u001b[49m\u001b[38;5;28;43minput\u001b[39;49m\u001b[43m,\u001b[49m\u001b[43m \u001b[49m\u001b[43mtarget\u001b[49m\u001b[43m,\u001b[49m\u001b[43m \u001b[49m\u001b[43mreduction\u001b[49m\u001b[38;5;241;43m=\u001b[39;49m\u001b[38;5;28;43mself\u001b[39;49m\u001b[38;5;241;43m.\u001b[39;49m\u001b[43mreduction\u001b[49m\u001b[43m,\u001b[49m\u001b[43m \u001b[49m\u001b[43mlog_target\u001b[49m\u001b[38;5;241;43m=\u001b[39;49m\u001b[38;5;28;43mself\u001b[39;49m\u001b[38;5;241;43m.\u001b[39;49m\u001b[43mlog_target\u001b[49m\u001b[43m)\u001b[49m\n",
      "File \u001b[0;32m/opt/homebrew/lib/python3.11/site-packages/torch/nn/functional.py:2931\u001b[0m, in \u001b[0;36mkl_div\u001b[0;34m(input, target, size_average, reduce, reduction, log_target)\u001b[0m\n\u001b[1;32m   2928\u001b[0m     \u001b[38;5;28;01melse\u001b[39;00m:\n\u001b[1;32m   2929\u001b[0m         reduction_enum \u001b[38;5;241m=\u001b[39m _Reduction\u001b[38;5;241m.\u001b[39mget_enum(reduction)\n\u001b[0;32m-> 2931\u001b[0m reduced \u001b[38;5;241m=\u001b[39m \u001b[43mtorch\u001b[49m\u001b[38;5;241;43m.\u001b[39;49m\u001b[43mkl_div\u001b[49m\u001b[43m(\u001b[49m\u001b[38;5;28;43minput\u001b[39;49m\u001b[43m,\u001b[49m\u001b[43m \u001b[49m\u001b[43mtarget\u001b[49m\u001b[43m,\u001b[49m\u001b[43m \u001b[49m\u001b[43mreduction_enum\u001b[49m\u001b[43m,\u001b[49m\u001b[43m \u001b[49m\u001b[43mlog_target\u001b[49m\u001b[38;5;241;43m=\u001b[39;49m\u001b[43mlog_target\u001b[49m\u001b[43m)\u001b[49m\n\u001b[1;32m   2933\u001b[0m \u001b[38;5;28;01mif\u001b[39;00m reduction \u001b[38;5;241m==\u001b[39m \u001b[38;5;124m\"\u001b[39m\u001b[38;5;124mbatchmean\u001b[39m\u001b[38;5;124m\"\u001b[39m \u001b[38;5;129;01mand\u001b[39;00m \u001b[38;5;28minput\u001b[39m\u001b[38;5;241m.\u001b[39mdim() \u001b[38;5;241m!=\u001b[39m \u001b[38;5;241m0\u001b[39m:\n\u001b[1;32m   2934\u001b[0m     reduced \u001b[38;5;241m=\u001b[39m reduced \u001b[38;5;241m/\u001b[39m \u001b[38;5;28minput\u001b[39m\u001b[38;5;241m.\u001b[39msize()[\u001b[38;5;241m0\u001b[39m]\n",
      "\u001b[0;31mRuntimeError\u001b[0m: kl_div: Integral inputs not supported."
     ]
    }
   ],
   "source": [
    "# Train and evaluate the model using different loss functions\n",
    "for loss_name, loss_function in loss_functions.items():\n",
    "    print(f'Training with {loss_name}:')\n",
    "    \n",
    "    # Initialize a new model and optimizer for each loss function\n",
    "    model = NeuralNet(input_size, hidden_size, num_classes)\n",
    "    optimizer = torch.optim.Adam(model.parameters(), lr=0.001)\n",
    "    \n",
    "    # Train the model\n",
    "    train_model(model, loss_function, train_loader, optimizer, num_epochs=5)\n",
    "\n",
    "    # Evaluate the model\n",
    "    accuracy, f1, precision, recall = evaluate_model(model, test_loader)\n",
    "    print(f'Performance metrics for {loss_name}:')\n",
    "    print(f'Accuracy: {accuracy:.4f}, F1-score: {f1:.4f}, Precision: {precision:.4f}, Recall: {recall:.4f}\\n')\n"
   ]
  },
  {
   "cell_type": "code",
   "execution_count": null,
   "id": "0116ef96-efc8-4699-8dd2-2c3a36b96bfd",
   "metadata": {},
   "outputs": [],
   "source": []
  },
  {
   "cell_type": "markdown",
   "id": "c714633a-9df3-41d9-9c82-6163d5dfb174",
   "metadata": {},
   "source": [
    "# Making our code with with KL and NLL"
   ]
  },
  {
   "cell_type": "code",
   "execution_count": null,
   "id": "3efdc826-eb71-4974-8bb5-52bbad2784c7",
   "metadata": {},
   "outputs": [],
   "source": []
  },
  {
   "cell_type": "code",
   "execution_count": 130,
   "id": "cbb6dd60-1a9d-4063-b38e-e82135a335b3",
   "metadata": {},
   "outputs": [],
   "source": [
    "# Function to train the model\n",
    "def train_model(model, loss_function, train_loader, optimizer, num_epochs=10):\n",
    "    # Put the model in training mode\n",
    "    model.train()\n",
    "    \n",
    "    # Iterate over the number of epochs\n",
    "    for epoch in range(num_epochs):\n",
    "        # Initialize the running loss for this epoch to zero\n",
    "        running_loss = 0.0\n",
    "        \n",
    "        # Iterate over each batch in the training loader\n",
    "        for i, (images, labels) in enumerate(train_loader):\n",
    "            \n",
    "            # Reshape the images tensor to have size (batch_size, input_size)\n",
    "            images = images.reshape(-1, input_size)\n",
    "            # Forward pass: compute the outputs of the model given the input images\n",
    "            outputs = model(images)\n",
    "\n",
    "            #### NEW ####\n",
    "            if 'KL' in str(loss_function) or 'NLL' in str(loss_function):\n",
    "                outputs = F.log_softmax(outputs, dim=1)\n",
    "            if 'KL' in str(loss_function):  # KL also need one hot \n",
    "                labels = one_hot_encode(labels, 10)\n",
    "            #### NEW ####\n",
    "            \n",
    "            # Compute the loss between the outputs and the true labels\n",
    "            loss = loss_function(outputs, labels)\n",
    "            # Backward pass: compute the gradients of the loss with respect to the model parameters\n",
    "            optimizer.zero_grad()\n",
    "            loss.backward()\n",
    "            # Update the model parameters using the optimizer\n",
    "            optimizer.step()\n",
    "            \n",
    "            # Add the current batch loss to the running loss for this epoch\n",
    "            running_loss += loss.item()\n",
    "\n",
    "        # Compute the average loss over all batches for this epoch and print it\n",
    "        print(f'Epoch [{epoch+1}/{num_epochs}], Loss: {running_loss/len(train_loader):.4f}')\n"
   ]
  },
  {
   "cell_type": "code",
   "execution_count": null,
   "id": "7c3cdfab-6a5c-4489-bb54-2fcbd745e1cc",
   "metadata": {},
   "outputs": [],
   "source": []
  },
  {
   "cell_type": "code",
   "execution_count": null,
   "id": "b8cacd3c-8dd8-4ce5-a890-9cc35976e6e8",
   "metadata": {},
   "outputs": [],
   "source": []
  },
  {
   "cell_type": "code",
   "execution_count": 131,
   "id": "49208990-0eb6-493b-91db-7c91196eaa0a",
   "metadata": {},
   "outputs": [],
   "source": [
    "def one_hot_encode(labels, num_classes):\n",
    "    # Create a tensor of zeros with shape [len(labels), num_classes]\n",
    "    one_hot = torch.zeros(len(labels), num_classes)\n",
    "    \n",
    "    # Use scatter_ to assign 1s to the correct class indices\n",
    "    one_hot.scatter_(1, labels.unsqueeze(1), 1)\n",
    "    \n",
    "    return one_hot\n"
   ]
  },
  {
   "cell_type": "code",
   "execution_count": null,
   "id": "dfad6603-d429-49b3-9228-db78581bb2e2",
   "metadata": {},
   "outputs": [],
   "source": []
  },
  {
   "cell_type": "code",
   "execution_count": 133,
   "id": "e5c84301-45e4-497d-849b-56124f51f571",
   "metadata": {},
   "outputs": [
    {
     "name": "stdout",
     "output_type": "stream",
     "text": [
      "Training with NLLLoss:\n",
      "Epoch [1/5], Loss: 0.2944\n",
      "Epoch [2/5], Loss: 0.1269\n",
      "Epoch [3/5], Loss: 0.0859\n",
      "Epoch [4/5], Loss: 0.0655\n",
      "Epoch [5/5], Loss: 0.0511\n",
      "Performance metrics for NLLLoss:\n",
      "Accuracy: 0.9755, F1-score: 0.9754, Precision: 0.9755, Recall: 0.9753\n",
      "\n",
      "Training with KLDivLoss:\n",
      "Epoch [1/5], Loss: 0.2850\n",
      "Epoch [2/5], Loss: 0.1252\n",
      "Epoch [3/5], Loss: 0.0850\n",
      "Epoch [4/5], Loss: 0.0645\n",
      "Epoch [5/5], Loss: 0.0508\n",
      "Performance metrics for KLDivLoss:\n",
      "Accuracy: 0.9765, F1-score: 0.9763, Precision: 0.9762, Recall: 0.9764\n",
      "\n",
      "Training with CrossEntropyLoss:\n",
      "Epoch [1/5], Loss: 0.2846\n",
      "Epoch [2/5], Loss: 0.1241\n",
      "Epoch [3/5], Loss: 0.0854\n",
      "Epoch [4/5], Loss: 0.0650\n",
      "Epoch [5/5], Loss: 0.0518\n",
      "Performance metrics for CrossEntropyLoss:\n",
      "Accuracy: 0.9772, F1-score: 0.9770, Precision: 0.9770, Recall: 0.9770\n",
      "\n"
     ]
    }
   ],
   "source": [
    "\n",
    "# Define a dictionary of loss functions\n",
    "loss_functions = {\n",
    "    'NLLLoss': nn.NLLLoss(),  \n",
    "    'KLDivLoss': nn.KLDivLoss(reduction='batchmean'),  # to avoid deprecation warning, I'm setting reduction to batchmean\n",
    "    'CrossEntropyLoss': nn.CrossEntropyLoss()\n",
    "}\n",
    "# Train and evaluate the model using different loss functions\n",
    "for loss_name, loss_function in loss_functions.items():\n",
    "    print(f'Training with {loss_name}:')\n",
    "    \n",
    "    # Initialize a new model and optimizer for each loss function\n",
    "    model = NeuralNet(input_size, hidden_size, num_classes)\n",
    "    optimizer = torch.optim.Adam(model.parameters(), lr=0.001)\n",
    "    \n",
    "    # Train the model\n",
    "    train_model(model, loss_function, train_loader, optimizer, num_epochs=5)\n",
    "\n",
    "    # Evaluate the model\n",
    "    accuracy, f1, precision, recall = evaluate_model(model, test_loader)\n",
    "    print(f'Performance metrics for {loss_name}:')\n",
    "    print(f'Accuracy: {accuracy:.4f}, F1-score: {f1:.4f}, Precision: {precision:.4f}, Recall: {recall:.4f}\\n')\n"
   ]
  },
  {
   "cell_type": "code",
   "execution_count": 145,
   "id": "ff44b62b-0e6c-4a12-8e65-22ca97c1929a",
   "metadata": {},
   "outputs": [
    {
     "name": "stderr",
     "output_type": "stream",
     "text": [
      "/opt/homebrew/lib/python3.11/site-packages/torchvision/datasets/mnist.py:65: UserWarning: train_labels has been renamed targets\n",
      "  warnings.warn(\"train_labels has been renamed targets\")\n"
     ]
    },
    {
     "data": {
      "text/plain": [
       "<Axes: >"
      ]
     },
     "execution_count": 145,
     "metadata": {},
     "output_type": "execute_result"
    },
    {
     "data": {
      "image/png": "[encoded data removed]",
      "text/plain": [
       "<Figure size 640x480 with 1 Axes>"
      ]
     },
     "metadata": {},
     "output_type": "display_data"
    }
   ],
   "source": [
    "import pandas as pd\n",
    "\n",
    "# KL is better for imbalanced data, which this isn't so much\n",
    "pd.Series(test_dataset.train_labels).value_counts().plot(kind='bar')"
   ]
  },
  {
   "cell_type": "code",
   "execution_count": null,
   "id": "00bad6b3-bb53-4cf2-a3c4-a1431a7c46c3",
   "metadata": {},
   "outputs": [],
   "source": []
  }
 ],
 "metadata": {
  "kernelspec": {
   "display_name": "Python 3 (ipykernel)",
   "language": "python",
   "name": "python3"
  },
  "language_info": {
   "codemirror_mode": {
    "name": "ipython",
    "version": 3
   },
   "file_extension": ".py",
   "mimetype": "text/x-python",
   "name": "python",
   "nbconvert_exporter": "python",
   "pygments_lexer": "ipython3",
   "version": "3.11.5"
  }
 },
 "nbformat": 4,
 "nbformat_minor": 5
}
