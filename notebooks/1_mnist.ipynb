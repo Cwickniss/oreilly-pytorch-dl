{
 "cells": [
  {
   "cell_type": "code",
   "execution_count": 16,
   "id": "bdfba6c5",
   "metadata": {},
   "outputs": [],
   "source": [
    "# Import required libraries\n",
    "import torch\n",
    "import torch.nn as nn\n",
    "import torchvision\n",
    "import torchvision.transforms as transforms\n",
    "from sklearn.metrics import accuracy_score, f1_score, precision_score, recall_score\n"
   ]
  },
  {
   "cell_type": "code",
   "execution_count": 17,
   "id": "5f54d472",
   "metadata": {},
   "outputs": [],
   "source": [
    "# Define hyperparameters\n",
    "input_size = 784  # 28x28 pixels\n",
    "hidden_size = 128\n",
    "num_classes = 10\n",
    "batch_size = 100"
   ]
  },
  {
   "cell_type": "code",
   "execution_count": 18,
   "id": "0de01bf4",
   "metadata": {},
   "outputs": [],
   "source": [
    "# Load MNIST dataset\n",
    "transform = transforms.Compose([transforms.ToTensor(), transforms.Normalize((0.1307,), (0.3081,))])\n",
    "\n",
    "train_dataset = torchvision.datasets.MNIST(root='../data', train=True, transform=transform, download=True)\n",
    "test_dataset = torchvision.datasets.MNIST(root='../data', train=False, transform=transform, download=True)\n",
    "\n",
    "train_loader = torch.utils.data.DataLoader(dataset=train_dataset, batch_size=batch_size, shuffle=True)\n",
    "test_loader = torch.utils.data.DataLoader(dataset=test_dataset, batch_size=batch_size, shuffle=False)\n"
   ]
  },
  {
   "cell_type": "code",
   "execution_count": 28,
   "id": "42f64815",
   "metadata": {},
   "outputs": [
    {
     "data": {
      "text/plain": [
       "torch.Size([100, 1, 28, 28])"
      ]
     },
     "execution_count": 28,
     "metadata": {},
     "output_type": "execute_result"
    }
   ],
   "source": [
    "next(iter(test_loader))[0].shape"
   ]
  },
  {
   "cell_type": "code",
   "execution_count": 19,
   "id": "9ef55b65",
   "metadata": {},
   "outputs": [],
   "source": [
    "# Define the neural network model\n",
    "class NeuralNet(nn.Module):\n",
    "    def __init__(self, input_size, hidden_size, num_classes):\n",
    "        super(NeuralNet, self).__init__()\n",
    "        self.fc1 = nn.Linear(input_size, hidden_size) \n",
    "        self.relu = nn.ReLU()\n",
    "        self.fc2 = nn.Linear(hidden_size, num_classes)  \n",
    "    \n",
    "    def forward(self, x):\n",
    "        out = self.fc1(x)\n",
    "        out = self.relu(out)\n",
    "        out = self.fc2(out)\n",
    "        return out\n",
    "\n",
    "# Create the model\n",
    "model = NeuralNet(input_size, hidden_size, num_classes)"
   ]
  },
  {
   "cell_type": "code",
   "execution_count": 20,
   "id": "fca379b3",
   "metadata": {},
   "outputs": [],
   "source": [
    "# Loss function options\n",
    "cross_entropy_loss = nn.CrossEntropyLoss()\n",
    "nll_loss = nn.NLLLoss()\n",
    "mse_loss = nn.MSELoss()\n",
    "\n",
    "optimizer = torch.optim.Adam(model.parameters(), lr=0.001)\n",
    "\n"
   ]
  },
  {
   "cell_type": "code",
   "execution_count": 21,
   "id": "502faaf8",
   "metadata": {},
   "outputs": [],
   "source": []
  },
  {
   "cell_type": "code",
   "execution_count": 71,
   "id": "410c88bf",
   "metadata": {},
   "outputs": [],
   "source": [
    "# Import additional required libraries\n",
    "import numpy as np\n",
    "\n",
    "# Function to train the model\n",
    "def train_model(model, loss_function, train_loader, optimizer, num_epochs=10):\n",
    "    model.train()\n",
    "    for epoch in range(num_epochs):\n",
    "        running_loss = 0.0\n",
    "        for i, (images, labels) in enumerate(train_loader):\n",
    "            images = images.reshape(-1, input_size)\n",
    "            \n",
    "            # Forward pass\n",
    "            outputs = model(images)\n",
    "            \n",
    "            loss = loss_function(outputs, labels)\n",
    "            \n",
    "            # Backward and optimize\n",
    "            optimizer.zero_grad()\n",
    "            loss.backward()\n",
    "            optimizer.step()\n",
    "            \n",
    "            running_loss += loss.item()\n",
    "\n",
    "        print(f'Epoch [{epoch+1}/{num_epochs}], Loss: {running_loss/len(train_loader):.4f}')\n",
    "\n",
    "# Function to evaluate the model\n",
    "def evaluate_model(model, test_loader):\n",
    "    model.eval()\n",
    "    y_true, y_pred = [], []\n",
    "    with torch.no_grad():\n",
    "        for images, labels in test_loader:\n",
    "            images = images.reshape(-1, input_size)\n",
    "            outputs = model(images)\n",
    "            _, predicted = torch.max(outputs.data, 1)\n",
    "            y_true.extend(labels.numpy())\n",
    "            y_pred.extend(predicted.numpy())\n",
    "    \n",
    "    accuracy, f1, precision, recall = evaluate_model_metrics(np.array(y_true), np.array(y_pred))\n",
    "    return accuracy, f1, precision, recall\n",
    "\n",
    "# Function to calculate evaluation metrics\n",
    "def evaluate_model_metrics(y_true, y_pred):\n",
    "    accuracy = accuracy_score(y_true, y_pred)\n",
    "    f1 = f1_score(y_true, y_pred, average='macro')\n",
    "    precision = precision_score(y_true, y_pred, average='macro')\n",
    "    recall = recall_score(y_true, y_pred, average='macro')\n",
    "\n",
    "    return accuracy, f1, precision, recall\n",
    "\n",
    "loss_functions = {\n",
    "    'CrossEntropyLoss': nn.CrossEntropyLoss(),\n",
    "    'NLLLoss': nn.NLLLoss(),\n",
    "                 }\n"
   ]
  },
  {
   "cell_type": "code",
   "execution_count": 72,
   "id": "216d35d7",
   "metadata": {
    "scrolled": false
   },
   "outputs": [
    {
     "name": "stdout",
     "output_type": "stream",
     "text": [
      "Training with CrossEntropyLoss:\n",
      "Epoch [1/10], Loss: 0.2818\n",
      "Epoch [2/10], Loss: 0.1225\n",
      "Epoch [3/10], Loss: 0.0855\n",
      "Epoch [4/10], Loss: 0.0642\n",
      "Epoch [5/10], Loss: 0.0505\n",
      "Epoch [6/10], Loss: 0.0416\n",
      "Epoch [7/10], Loss: 0.0344\n",
      "Epoch [8/10], Loss: 0.0277\n",
      "Epoch [9/10], Loss: 0.0236\n",
      "Epoch [10/10], Loss: 0.0199\n",
      "Performance metrics for CrossEntropyLoss:\n",
      "Accuracy: 0.9791, F1-score: 0.9789, Precision: 0.9791, Recall: 0.9788\n",
      "\n",
      "Training with NLLLoss:\n",
      "Epoch [1/10], Loss: -11815.9167\n",
      "Epoch [2/10], Loss: -85372.2743\n",
      "Epoch [3/10], Loss: -223515.6176\n",
      "Epoch [4/10], Loss: -414722.8688\n",
      "Epoch [5/10], Loss: -651873.4858\n",
      "Epoch [6/10], Loss: -930244.1056\n",
      "Epoch [7/10], Loss: -1246753.6220\n",
      "Epoch [8/10], Loss: -1599551.9187\n",
      "Epoch [9/10], Loss: -1987402.2794\n",
      "Epoch [10/10], Loss: -2409405.8650\n",
      "Performance metrics for NLLLoss:\n",
      "Accuracy: 0.1135, F1-score: 0.0204, Precision: 0.0114, Recall: 0.1000\n",
      "\n"
     ]
    },
    {
     "name": "stderr",
     "output_type": "stream",
     "text": [
      "/opt/homebrew/lib/python3.10/site-packages/sklearn/metrics/_classification.py:1334: UndefinedMetricWarning: Precision is ill-defined and being set to 0.0 in labels with no predicted samples. Use `zero_division` parameter to control this behavior.\n",
      "  _warn_prf(average, modifier, msg_start, len(result))\n"
     ]
    }
   ],
   "source": [
    "# Train and evaluate the model using different loss functions\n",
    "for loss_name, loss_function in loss_functions.items():\n",
    "    print(f'Training with {loss_name}:')\n",
    "    \n",
    "    # Initialize a new model and optimizer for each loss function\n",
    "    model = NeuralNet(input_size, hidden_size, num_classes)\n",
    "    optimizer = torch.optim.Adam(model.parameters(), lr=0.001)\n",
    "    \n",
    "    # Train the model\n",
    "    train_model(model, loss_function, train_loader, optimizer, num_epochs=10)\n",
    "\n",
    "    # Evaluate the model\n",
    "    accuracy, f1, precision, recall = evaluate_model(model, test_loader)\n",
    "    print(f'Performance metrics for {loss_name}:')\n",
    "    print(f'Accuracy: {accuracy:.4f}, F1-score: {f1:.4f}, Precision: {precision:.4f}, Recall: {recall:.4f}\\n')\n"
   ]
  },
  {
   "cell_type": "code",
   "execution_count": null,
   "id": "1d641f72",
   "metadata": {},
   "outputs": [],
   "source": []
  }
 ],
 "metadata": {
  "kernelspec": {
   "display_name": "Python 3 (ipykernel)",
   "language": "python",
   "name": "python3"
  },
  "language_info": {
   "codemirror_mode": {
    "name": "ipython",
    "version": 3
   },
   "file_extension": ".py",
   "mimetype": "text/x-python",
   "name": "python",
   "nbconvert_exporter": "python",
   "pygments_lexer": "ipython3",
   "version": "3.10.7"
  }
 },
 "nbformat": 4,
 "nbformat_minor": 5
}
